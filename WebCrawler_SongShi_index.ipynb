{
 "cells": [
  {
   "cell_type": "markdown",
   "metadata": {},
   "source": [
    "# 練習網址：http://www.chinabooktrading.com/song/\n",
    "## 目標\n",
    "爬取目錄，以及照階層排好。\n",
    "## 步驟\n",
    "1. 設定requests。\n",
    "2. 設定user-agent池，以便替換。\n",
    "3. 解析目錄層級。\n",
    "4. 爬蟲。"
   ]
  },
  {
   "cell_type": "code",
   "execution_count": 1,
   "metadata": {},
   "outputs": [],
   "source": [
    "#!/usr/bin/env python\n",
    "#coding=utf-8"
   ]
  },
  {
   "cell_type": "code",
   "execution_count": 2,
   "metadata": {},
   "outputs": [
    {
     "name": "stdout",
     "output_type": "stream",
     "text": [
      "套件載入完成\n"
     ]
    }
   ],
   "source": [
    "# 建立各種 HTTP 請求，從網頁伺服器上取得想要的資料\n",
    "import requests\n",
    "\n",
    "# 用來解析處理requests取得的數據; processing XML and HTML\n",
    "#from lxml import html\n",
    "\n",
    "# 一個HTML解析器，可以處理各種奇怪的HTML\n",
    "from bs4 import BeautifulSoup as bs\n",
    "\n",
    "# 睡眠用\n",
    "from time import sleep\n",
    "\n",
    "# 處理javascript用\n",
    "import json\n",
    "\n",
    "# 能處理載入、整理與視覺化等常見的資料應用套件\n",
    "import pandas as pd\n",
    "\n",
    "# 隨機睡眠用\n",
    "import random\n",
    "\n",
    "import os\n",
    "\n",
    "#偽造User-Agent\n",
    "from fake_useragent import UserAgent\n",
    "\n",
    "import re\n",
    "\n",
    "print('套件載入完成')"
   ]
  },
  {
   "cell_type": "markdown",
   "metadata": {},
   "source": [
    "### 設定requests"
   ]
  },
  {
   "cell_type": "code",
   "execution_count": 3,
   "metadata": {
    "scrolled": true
   },
   "outputs": [
    {
     "name": "stderr",
     "output_type": "stream",
     "text": [
      "Error occurred during loading data. Trying to use cache server https://fake-useragent.herokuapp.com/browsers/0.1.11\n",
      "Traceback (most recent call last):\n",
      "  File \"/Users/TAI/.local/share/virtualenvs/WebCrawler-Q8hI92k6/lib/python3.7/site-packages/fake_useragent/utils.py\", line 67, in get\n",
      "    context=context,\n",
      "  File \"/usr/local/Cellar/python/3.7.4_1/Frameworks/Python.framework/Versions/3.7/lib/python3.7/urllib/request.py\", line 222, in urlopen\n",
      "    return opener.open(url, data, timeout)\n",
      "  File \"/usr/local/Cellar/python/3.7.4_1/Frameworks/Python.framework/Versions/3.7/lib/python3.7/urllib/request.py\", line 525, in open\n",
      "    response = self._open(req, data)\n",
      "  File \"/usr/local/Cellar/python/3.7.4_1/Frameworks/Python.framework/Versions/3.7/lib/python3.7/urllib/request.py\", line 543, in _open\n",
      "    '_open', req)\n",
      "  File \"/usr/local/Cellar/python/3.7.4_1/Frameworks/Python.framework/Versions/3.7/lib/python3.7/urllib/request.py\", line 503, in _call_chain\n",
      "    result = func(*args)\n",
      "  File \"/usr/local/Cellar/python/3.7.4_1/Frameworks/Python.framework/Versions/3.7/lib/python3.7/urllib/request.py\", line 1345, in http_open\n",
      "    return self.do_open(http.client.HTTPConnection, req)\n",
      "  File \"/usr/local/Cellar/python/3.7.4_1/Frameworks/Python.framework/Versions/3.7/lib/python3.7/urllib/request.py\", line 1320, in do_open\n",
      "    r = h.getresponse()\n",
      "  File \"/usr/local/Cellar/python/3.7.4_1/Frameworks/Python.framework/Versions/3.7/lib/python3.7/http/client.py\", line 1336, in getresponse\n",
      "    response.begin()\n",
      "  File \"/usr/local/Cellar/python/3.7.4_1/Frameworks/Python.framework/Versions/3.7/lib/python3.7/http/client.py\", line 306, in begin\n",
      "    version, status, reason = self._read_status()\n",
      "  File \"/usr/local/Cellar/python/3.7.4_1/Frameworks/Python.framework/Versions/3.7/lib/python3.7/http/client.py\", line 267, in _read_status\n",
      "    line = str(self.fp.readline(_MAXLINE + 1), \"iso-8859-1\")\n",
      "  File \"/usr/local/Cellar/python/3.7.4_1/Frameworks/Python.framework/Versions/3.7/lib/python3.7/socket.py\", line 589, in readinto\n",
      "    return self._sock.recv_into(b)\n",
      "socket.timeout: timed out\n",
      "\n",
      "During handling of the above exception, another exception occurred:\n",
      "\n",
      "Traceback (most recent call last):\n",
      "  File \"/Users/TAI/.local/share/virtualenvs/WebCrawler-Q8hI92k6/lib/python3.7/site-packages/fake_useragent/utils.py\", line 166, in load\n",
      "    verify_ssl=verify_ssl,\n",
      "  File \"/Users/TAI/.local/share/virtualenvs/WebCrawler-Q8hI92k6/lib/python3.7/site-packages/fake_useragent/utils.py\", line 122, in get_browser_versions\n",
      "    verify_ssl=verify_ssl,\n",
      "  File \"/Users/TAI/.local/share/virtualenvs/WebCrawler-Q8hI92k6/lib/python3.7/site-packages/fake_useragent/utils.py\", line 84, in get\n",
      "    raise FakeUserAgentError('Maximum amount of retries reached')\n",
      "fake_useragent.errors.FakeUserAgentError: Maximum amount of retries reached\n"
     ]
    }
   ],
   "source": [
    "# user-agent池\n",
    "UA_pool = [] #空池\n",
    "ua = UserAgent() # 設定User-Agent()\n",
    "\n",
    "for i in range(100): # 先取50個偽User-Agent就好\n",
    "    UA_pool.append(ua.random) # 偽User-Agent加入UA_pool\n",
    "\n",
    "# 隨機生成UA的函式\n",
    "def UA():  \n",
    "    num = random.randint(0, 100-1) \n",
    "    UA = UA_pool[num]\n",
    "    headers = {'User-Agent': UA} #ua.random\n",
    "    return headers"
   ]
  },
  {
   "cell_type": "code",
   "execution_count": 4,
   "metadata": {},
   "outputs": [],
   "source": [
    "s = requests.Session()\n",
    "headers = UA()\n",
    "\n",
    "# 得cookies\n",
    "# 透過開發者工具(F12)分析得知目錄的連結為'http://www.chinabooktrading.com/song/tree.jsp'\n",
    "## 第一位 # #全宋詩 > 卷一至卷五八 > 全宋詩卷一 > 宋太祖 > 日詩 and 句\n",
    "res = s.get('http://www.chinabooktrading.com/song/tree.jsp?e=1&book=1&column=1&poet=1', headers = headers) \n",
    "\n",
    "cookies = s.cookies.get_dict()\n",
    "# print(s.cookies.get_dict())"
   ]
  },
  {
   "cell_type": "code",
   "execution_count": null,
   "metadata": {},
   "outputs": [],
   "source": [
    "# 解析網頁\n",
    "html = bs(res.text)\n",
    "print(html)"
   ]
  },
  {
   "cell_type": "code",
   "execution_count": null,
   "metadata": {},
   "outputs": [],
   "source": [
    "# 縮小範圍\n",
    "html = html.find(\"div\")\n",
    "html"
   ]
  },
  {
   "cell_type": "code",
   "execution_count": null,
   "metadata": {},
   "outputs": [],
   "source": [
    "## 最後一位 # #全宋詩 > 卷三七三七至卷三七八二 > 卷三七三七至卷三七八二 > 葉升 > 登凌雲山絕頂 \n",
    "res2 = s.get('http://www.chinabooktrading.com/song/tree.jsp?e=1&book=72&column=3782&poet=9204', headers = UA()) \n",
    "\n",
    "# 解析網頁 \n",
    "html2 = bs(res2.text)\n",
    "\n",
    "# 縮小範圍\n",
    "html2 = html2.find(\"div\")\n",
    "html2"
   ]
  },
  {
   "cell_type": "markdown",
   "metadata": {},
   "source": [
    "透過\n",
    "\n",
    "第一位作者之網址: 'http://www.chinabooktrading.com/song/tree.jsp?e=1&book=1&column=1&poet=1'\n",
    "\n",
    "最後一位作者網址: 'http://www.chinabooktrading.com/song/tree.jsp?e=1&book=72&column=3782&poet=9204'\n",
    "\n",
    "得知e , book, colum, 及 poet之變動規則"
   ]
  },
  {
   "cell_type": "markdown",
   "metadata": {},
   "source": [
    "### 目錄層級順序\n",
    "得卷號：href=re.compile(\"e={num}&\".format(num = i)) \n",
    "\n",
    "得詩卷號：href=re.compile(\"book={num}&\".format(num = i))\n",
    "\n",
    "得作者：href=re.compile(\"column={num}&\".format(num = i))\n",
    "\n",
    "得詞名：html.find_all(\"a\", target=\"main\") \n",
    "\n",
    "===========================================================\n",
    "### 變數\n",
    "名稱：name, ex.全宋詩\n",
    "\n",
    "卷號：no, ex. 卷一至卷五八\n",
    "\n",
    "詩卷號：poemNo, ex. 全宋詩卷一\n",
    "\n",
    "作者：author, ex. 宋太祖\n",
    "\n",
    "詞名：poemName, ex. 日詩"
   ]
  },
  {
   "cell_type": "code",
   "execution_count": null,
   "metadata": {
    "scrolled": true
   },
   "outputs": [],
   "source": [
    "# URL\n",
    "URL = \"http://www.chinabooktrading.com/song/tree.jsp\"\n",
    "\n",
    "# 試做字典\n",
    "final_dic = [] # 總字典\n",
    "\n",
    "# 設定基本參數\n",
    "id_ = 0\n",
    "book_no = 0\n",
    "poet_no = 0 \n",
    "\n",
    "# 詩名\n",
    "name = \"全宋詩\"\n",
    "\n",
    "URL_book = URL + '?e=1' # 設定號URL\n",
    "res = s.get(URL_book, headers = UA(), timeout= 5) # requests\n",
    "html = bs(res.text) # 解析網頁 \n",
    "book_list = html.find_all(\"a\", href=re.compile(\"e=1&\")) # 得全部的卷號名\n",
    "\n",
    "for book in range(0, len(book_list)): \n",
    "    no = book_list[book].text # 得卷號名\n",
    "    # print(\"設定卷號名: \", no)\n",
    "    \n",
    "    URL_column = \"http://www.chinabooktrading.com/song/\" + book_list[book]['href'] # 設定詩卷號URL\n",
    "    #print(URL_column)\n",
    "    res = s.get(URL_column, headers = UA(), timeout= 5) # requests  \n",
    "    html = bs(res.text) # 解析網頁  \n",
    "    \n",
    "    book_no = book+1\n",
    "    book_keyword = URL_column.replace(URL_book,\"\")+\"&\" # URL_column - URL_book 得關鍵字\n",
    "    column_list = html.find_all(\"a\", href=re.compile(book_keyword)) # 得全部的詩卷號 \n",
    "              \n",
    "    for column in range (len(column_list)): \n",
    "        poemNo = column_list[column].text # 得詩卷號\n",
    "        # print(\"詩卷號: \", poemNo)\n",
    "\n",
    "        URL_poet = \"http://www.chinabooktrading.com/song/\" + column_list[column]['href'] # 設定作者名URL  \n",
    "        #print(URL_poet)\n",
    "        res = s.get(URL_poet, headers = UA(), timeout= 5)\n",
    "        html = bs(res.text) # 解析網頁 \n",
    "        \n",
    "        column_no = column+1\n",
    "        column_keyword = URL_poet.replace(URL_column,\"\")+\"&\" # URL_poet - URL_column 得關鍵字\n",
    "        poet_list = html.find_all(\"a\", href=re.compile(column_keyword)) # 得全部的作者 \n",
    "        \n",
    "        for poet in poet_list:\n",
    "            \n",
    "            author = poet.text # 得作者名\n",
    "\n",
    "            URL_poem = \"http://www.chinabooktrading.com/song/\" + poet['href']\n",
    "            res = s.get(URL_poem, headers = UA(), timeout= 5)\n",
    "            html = bs(res.text) # 解析網頁 \n",
    "            poem = html.find_all(\"a\", target=\"main\") # 得全部的詞\n",
    "            \n",
    "            for poem_Num in range(0, len(poem)):\n",
    "                poemName = poem[poem_Num].text # 得詞名\n",
    "                # print(\"詞名: \", poemName)\n",
    "                \n",
    "                URL_poem = \"http://www.chinabooktrading.com/song/\" + poem[poem_Num]['href']\n",
    "                #print(URL_poem)\n",
    "                \n",
    "                id_ += 1 # 設定id\n",
    "                \n",
    "                # 目錄字典\n",
    "                index_dic = {\n",
    "                    \"id\": id_,\n",
    "                    \"詩名\": name, \n",
    "                    \"卷號\": no,\n",
    "                    \"詩卷號\": poemNo,\n",
    "                    \"作者\": author,\n",
    "                    \"詞名\": poemName,\n",
    "                    \"網址\": URL_poem\n",
    "                     }\n",
    "                print(\"目錄:\", index_dic)\n",
    "                \n",
    "                # 加入總字典\n",
    "                final_dic.append(index_dic)\n",
    "                #print(\"\")\n",
    "\n",
    "print(\"\")\n",
    "print(\"=\"*80)                \n",
    "print(\"Done!\")"
   ]
  },
  {
   "cell_type": "markdown",
   "metadata": {},
   "source": [
    "### 存檔"
   ]
  },
  {
   "cell_type": "code",
   "execution_count": 6,
   "metadata": {},
   "outputs": [],
   "source": [
    "## 存檔\n",
    "def save():\n",
    "    print(\"**存檔中...\") # 檢查哨\n",
    "    dn = \"ouptput\" # 設立output資料夾\n",
    "    file = \"SongShi_index\" # 宋詞檔名 # i == 資料筆數\n",
    "    #error_file = \"error_list\" # 錯誤連結清單檔名\n",
    "\n",
    "    try:\n",
    "        if not os.path.exists(dn):   \n",
    "            os.makedirs(dn)\n",
    "    except:\n",
    "        pass\n",
    "\n",
    "    # 存json格式\n",
    "    ## 宋詞\n",
    "    f = open(dn + \"/\"+ file + \".json\", \"w\", encoding=\"utf-8\") # 打開路徑\n",
    "    json.dump(final_dic, f) # 寫入json格式\n",
    "    f.close() # 關閉路徑\n",
    "    \n",
    "    ## 錯誤清單\n",
    "    \"\"\"\n",
    "    e = open(dn + \"/\"+ error_file + \".json\", \"w\", encoding=\"utf-8\") # 打開路徑\n",
    "    json.dump(error_list, e) # 寫入json格式\n",
    "    e.close() # 關閉路徑\n",
    "    \"\"\"\n",
    "    print(\"json存檔完成\") # 檢查哨\n",
    "    \n",
    "    \n",
    "    # 存csv格式\n",
    "    ## 宋詞\n",
    "    final_dic_df = pd.DataFrame(final_dic)\n",
    "    final_dic_df.to_csv(dn + \"/\"+ file + \".csv\",encoding=\"utf-8\", index=False)\n",
    "    \n",
    "    ## 錯誤清單\n",
    "    \"\"\"\n",
    "    error_list_df = pd.DataFrame(error_list)\n",
    "    error_list_df.to_csv(dn + \"/\"+ error_file + \".csv\",encoding=\"utf-8\", index=False)\n",
    "    \"\"\"\n",
    "    print(\"csv存檔完成\") # 檢查哨\n",
    "    print(\"-\" * 80)\n",
    "    print(\"-\" * 80)\n",
    "\n",
    "    # DONE\n",
    "    print(\"存檔完成\") # 檢查哨"
   ]
  },
  {
   "cell_type": "code",
   "execution_count": 8,
   "metadata": {},
   "outputs": [
    {
     "name": "stdout",
     "output_type": "stream",
     "text": [
      "**存檔中...\n",
      "json存檔完成\n",
      "csv存檔完成\n",
      "--------------------------------------------------------------------------------\n",
      "--------------------------------------------------------------------------------\n",
      "存檔完成\n"
     ]
    }
   ],
   "source": [
    "save()"
   ]
  }
 ],
 "metadata": {
  "kernelspec": {
   "display_name": "Python 3",
   "language": "python",
   "name": "python3"
  },
  "language_info": {
   "codemirror_mode": {
    "name": "ipython",
    "version": 3
   },
   "file_extension": ".py",
   "mimetype": "text/x-python",
   "name": "python",
   "nbconvert_exporter": "python",
   "pygments_lexer": "ipython3",
   "version": "3.7.4"
  }
 },
 "nbformat": 4,
 "nbformat_minor": 2
}
