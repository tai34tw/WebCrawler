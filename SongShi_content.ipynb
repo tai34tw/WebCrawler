{
 "cells": [
  {
   "cell_type": "markdown",
   "metadata": {},
   "source": [
    "# 練習網址：http://www.chinabooktrading.com/song/\n",
    "## 目標\n",
    "爬取全部宋詞之作者名、押韻、體詩、及詩等。\n",
    "## 步驟\n",
    "1. 設定requests。\n",
    "2. 設定user-agent池，以便替換。\n",
    "3. 爬蟲。"
   ]
  },
  {
   "cell_type": "code",
   "execution_count": 1,
   "metadata": {},
   "outputs": [],
   "source": [
    "#!/usr/bin/env python\n",
    "#coding=utf-8"
   ]
  },
  {
   "cell_type": "code",
   "execution_count": 2,
   "metadata": {},
   "outputs": [
    {
     "name": "stdout",
     "output_type": "stream",
     "text": [
      "套件載入完成\n"
     ]
    }
   ],
   "source": [
    "# 建立各種 HTTP 請求，從網頁伺服器上取得想要的資料\n",
    "import requests\n",
    "\n",
    "# 用來解析處理requests取得的數據; processing XML and HTML\n",
    "#from lxml import html\n",
    "\n",
    "# 一個HTML解析器，可以處理各種奇怪的HTML\n",
    "from bs4 import BeautifulSoup as bs\n",
    "\n",
    "# 睡眠用\n",
    "from time import sleep\n",
    "\n",
    "import json\n",
    "\n",
    "# 能處理載入、整理與視覺化等常見的資料應用套件\n",
    "import pandas as pd\n",
    "\n",
    "# 隨機睡眠用\n",
    "import random\n",
    "\n",
    "import os\n",
    "\n",
    "#偽造User-Agent\n",
    "from fake_useragent import UserAgent\n",
    "\n",
    "print('套件載入完成')"
   ]
  },
  {
   "cell_type": "markdown",
   "metadata": {},
   "source": [
    "### 設定requests"
   ]
  },
  {
   "cell_type": "code",
   "execution_count": 3,
   "metadata": {},
   "outputs": [],
   "source": [
    "s = requests.Session()\n",
    "\n",
    "# 得cookies\n",
    "# 發現從左側宋詞列表按右鍵，\"複製連結“得超連結網址\n",
    "res = s.get('http://www.chinabooktrading.com/song/fullText.jsp?a=1&e=1&u=1&b=4')\n",
    "cookies = s.cookies.get_dict()\n",
    "# print(s.cookies.get_dict())"
   ]
  },
  {
   "cell_type": "code",
   "execution_count": 4,
   "metadata": {},
   "outputs": [
    {
     "name": "stdout",
     "output_type": "stream",
     "text": [
      "<!DOCTYPE html PUBLIC \"-//W3C//DTD XHTML 1.0 Transitional//EN\" \"http://www.w3.org/TR/xhtml1/DTD/xhtml1-transitional.dtd\">\n",
      "<html lang=\"zh-CN\" xml:lang=\"zh-CN\" xmlns=\"http://www.w3.org/1999/xhtml\">\n",
      "<head>\n",
      "<meta content=\"poem\" http-equiv=\"Description\"/>\n",
      "<meta content=\"text/html; charset=utf-8\" http-equiv=\"Content-Type\"/>\n",
      "<title>poem</title>\n",
      "<link href=\"static/fulltext.css\" rel=\"stylesheet\" type=\"text/css\"/>\n",
      "<script type=\"text/javascript\">\r\n",
      "\t\t\tvar isGlVisible = false;\r\n",
      "\t\t\tvar $ = function(id) {\r\n",
      "\t\t\t\treturn document.getElementById(id);\r\n",
      "\t\t\t};\r\n",
      "\t\t\tvar switchGl = function(id) {\r\n",
      "\t\t\t\tif (isGlVisible == true) {\r\n",
      "\t\t\t\t\tisGlVisible = false;\r\n",
      "\t\t\t\t\tif (id !== \"btngl3\") {\r\n",
      "\t\t\t\t\t\t$(\"btngl1\").innerHTML = \"顯示格律\";\r\n",
      "\t\t\t\t\t\t$(\"btngl2\").innerHTML = \"顯示格律\";\r\n",
      "\t\t\t\t\t} else {\r\n",
      "\t\t\t\t\t\t$(\"btngl3\").innerHTML = \"顯示格律\";\r\n",
      "\t\t\t\t\t}\r\n",
      "\t\t\t\t\tvar elems = document.getElementsByTagName(\"p\");\r\n",
      "\t\t\t\t\tfor (var i=0; i<elems.length; i++) {\r\n",
      "\t\t\t\t\t\tif (elems[i].className == \"gl\") {\r\n",
      "\t\t\t\t\t\t\telems[i].style.display = \"none\";\r\n",
      "\t\t\t\t\t\t}\r\n",
      "\t\t\t\t\t}\r\n",
      "\t\t\t\t} else {\r\n",
      "\t\t\t\t\tisGlVisible = true;\r\n",
      "\t\t\t\t\tif (id !== \"btngl3\") {\r\n",
      "\t\t\t\t\t\t$(\"btngl1\").innerHTML = \"隱藏格律\";\r\n",
      "\t\t\t\t\t\t$(\"btngl2\").innerHTML = \"隱藏格律\";\r\n",
      "\t\t\t\t\t} else {\r\n",
      "\t\t\t\t\t\t$(\"btngl3\").innerHTML = \"隱藏格律\";\r\n",
      "\t\t\t\t\t}\r\n",
      "\t\t\t\t\tvar elems = document.getElementsByTagName(\"p\");\r\n",
      "\t\t\t\t\tfor (var i=0; i<elems.length; i++) {\r\n",
      "\t\t\t\t\t\tif (elems[i].className == \"gl\") {\r\n",
      "\t\t\t\t\t\t\telems[i].style.display = \"block\";\r\n",
      "\t\t\t\t\t\t}\r\n",
      "\t\t\t\t\t}\r\n",
      "\t\t\t\t}\r\n",
      "\t\t\t};\r\n",
      "\t\t</script>\n",
      "</head>\n",
      "<body class=\"\">\n",
      "<div class=\"content\">\n",
      "<div class=\"content\">\n",
      "<h2 class=\"nametitle subtitle TEXT_MEDIUM\">詩:宋詩  日詩   (宋太祖)</h2>\n",
      "<div class=\"viewopts\">\r\n",
      "                            \r\n",
      "                                【<a class=\"\" href=\"javascript://;\" id=\"btngl3\" onclick=\"switchGl('btngl3');\">顯示格律</a>】\r\n",
      "                                【<a class=\"\" href=\"resultList.jsp?e=1&amp;a=1&amp;b=1&amp;v=7&amp;x=00&amp;s=%E6%9C%88\" target=\"sider\">查與本詩形式相似詩</a>】\r\n",
      "                            \r\n",
      "                        </div>\n",
      "<div style=\"clear: both; margin-bottom: 25px;\">\n",
      "<h3 class=\"TEXT_DARK\"> 日詩   </h3>\n",
      "<h4 class=\"TEXT_LIGHT\">宋太祖</h4>\n",
      "<h4 class=\"TEXT_LIGHT\">押六月</h4>\n",
      "<h4 class=\"TEXT_LIGHT\">古體詩</h4>\n",
      "<p>欲出未出光辣達，千山萬山如火發。</p>\n",
      "<p class=\"gl\">仄仄仄仄平仄仄，平平仄平○仄仄。</p>\n",
      "<p>須臾走向天上來，逐却殘星趕却月。</p>\n",
      "<p class=\"gl\">平平仄仄平仄平，仄仄平平？仄仄。</p>\n",
      "</div>\n",
      "<h2 class=\"subtitle TEXT_MEDIUM\">帶註釋文本</h2>\n",
      "<div>\n",
      "<h3 class=\"TEXT_DARK\"> 日詩   </h3>\n",
      "<p>欲出未出光辣達，<span class=\"comment\">《庚溪詩話》作太陽初出光赫赫</span>千山萬山如火發。須臾走向天上來，<span class=\"comment\">《庚溪詩話》作一輪頃刻上天衢</span>逐却殘星趕却<span class=\"comment\">《庚溪詩話》作退羣星與殘</span>月。<span class=\"comment\">宋陳郁《藏一話腴》</span></p>\n",
      "</div>\n",
      "<h2 class=\"nametitle subtitle TEXT_MEDIUM\">作者:宋太祖</h2>\n",
      "<div>\n",
      "<h3 class=\"TEXT_DARK\">宋太祖</h3>\n",
      "<h4 class=\"TEXT_LIGHT\">共有詩2首</h4>\n",
      "<p>宋太祖趙匡胤（九二七～九七六），涿州（今屬河北）人。生於洛陽。後漢乾祐元年（九四八），樞密使郭威討李守真，應募爲部屬。後周顯德中，從征淮南、壽春，積功至殿前都指揮使、義成軍節度使，改忠武軍節度使。顯德六年（九五九），升檢校太傅、殿前都點檢。恭帝即位，改檢校太尉、歸德軍節度使。七年春，發動陳橋兵變，即帝位，國號宋，改元建隆（九六○）。繼而平定李筠、李重進叛亂。乾德元年（九六三），平荆湖；三年，平後蜀。開寶二年（九六九），親征北漢；四年，平南漢；八年，平南唐。在位十七年。開寶九年冬十月卒，年五十。太宗太平興國二年（九七七），葬永昌陵。事見《宋史》卷一至三《太祖紀》。</p>\n",
      "</div>\n",
      "</div>\n",
      "</div></body>\n",
      "</html>\n"
     ]
    }
   ],
   "source": [
    "# 解析網頁\n",
    "html = bs(res.text)\n",
    "print(html)"
   ]
  },
  {
   "cell_type": "code",
   "execution_count": 5,
   "metadata": {},
   "outputs": [
    {
     "data": {
      "text/plain": [
       "<div class=\"content\">\n",
       "<div class=\"content\">\n",
       "<h2 class=\"nametitle subtitle TEXT_MEDIUM\">詩:宋詩  日詩   (宋太祖)</h2>\n",
       "<div class=\"viewopts\">\n",
       "                            \n",
       "                                【<a class=\"\" href=\"javascript://;\" id=\"btngl3\" onclick=\"switchGl('btngl3');\">顯示格律</a>】\n",
       "                                【<a class=\"\" href=\"resultList.jsp?e=1&amp;a=1&amp;b=1&amp;v=7&amp;x=00&amp;s=%E6%9C%88\" target=\"sider\">查與本詩形式相似詩</a>】\n",
       "                            \n",
       "                        </div>\n",
       "<div style=\"clear: both; margin-bottom: 25px;\">\n",
       "<h3 class=\"TEXT_DARK\"> 日詩   </h3>\n",
       "<h4 class=\"TEXT_LIGHT\">宋太祖</h4>\n",
       "<h4 class=\"TEXT_LIGHT\">押六月</h4>\n",
       "<h4 class=\"TEXT_LIGHT\">古體詩</h4>\n",
       "<p>欲出未出光辣達，千山萬山如火發。</p>\n",
       "<p class=\"gl\">仄仄仄仄平仄仄，平平仄平○仄仄。</p>\n",
       "<p>須臾走向天上來，逐却殘星趕却月。</p>\n",
       "<p class=\"gl\">平平仄仄平仄平，仄仄平平？仄仄。</p>\n",
       "</div>\n",
       "<h2 class=\"subtitle TEXT_MEDIUM\">帶註釋文本</h2>\n",
       "<div>\n",
       "<h3 class=\"TEXT_DARK\"> 日詩   </h3>\n",
       "<p>欲出未出光辣達，<span class=\"comment\">《庚溪詩話》作太陽初出光赫赫</span>千山萬山如火發。須臾走向天上來，<span class=\"comment\">《庚溪詩話》作一輪頃刻上天衢</span>逐却殘星趕却<span class=\"comment\">《庚溪詩話》作退羣星與殘</span>月。<span class=\"comment\">宋陳郁《藏一話腴》</span></p>\n",
       "</div>\n",
       "<h2 class=\"nametitle subtitle TEXT_MEDIUM\">作者:宋太祖</h2>\n",
       "<div>\n",
       "<h3 class=\"TEXT_DARK\">宋太祖</h3>\n",
       "<h4 class=\"TEXT_LIGHT\">共有詩2首</h4>\n",
       "<p>宋太祖趙匡胤（九二七～九七六），涿州（今屬河北）人。生於洛陽。後漢乾祐元年（九四八），樞密使郭威討李守真，應募爲部屬。後周顯德中，從征淮南、壽春，積功至殿前都指揮使、義成軍節度使，改忠武軍節度使。顯德六年（九五九），升檢校太傅、殿前都點檢。恭帝即位，改檢校太尉、歸德軍節度使。七年春，發動陳橋兵變，即帝位，國號宋，改元建隆（九六○）。繼而平定李筠、李重進叛亂。乾德元年（九六三），平荆湖；三年，平後蜀。開寶二年（九六九），親征北漢；四年，平南漢；八年，平南唐。在位十七年。開寶九年冬十月卒，年五十。太宗太平興國二年（九七七），葬永昌陵。事見《宋史》卷一至三《太祖紀》。</p>\n",
       "</div>\n",
       "</div>\n",
       "</div>"
      ]
     },
     "execution_count": 5,
     "metadata": {},
     "output_type": "execute_result"
    }
   ],
   "source": [
    "# 縮小範圍\n",
    "html = html.find(\"div\")\n",
    "html"
   ]
  },
  {
   "cell_type": "markdown",
   "metadata": {},
   "source": [
    "### 爬蟲"
   ]
  },
  {
   "cell_type": "markdown",
   "metadata": {},
   "source": [
    "#### 1. 風險規避，定時存擋"
   ]
  },
  {
   "cell_type": "code",
   "execution_count": 6,
   "metadata": {},
   "outputs": [],
   "source": [
    "## 風險規避，定時存檔\n",
    "def save():\n",
    "    print(\"-\" * 80)\n",
    "    print(\"**定時存檔中...\") # 檢查哨\n",
    "    dn = \"ouptput\" # 設立output資料夾\n",
    "    file = \"SongShi_content_\" + str(i) # 宋詞檔名 # i == 資料筆數\n",
    "    error_file = \"error_list\" # 錯誤連結清單檔名\n",
    "\n",
    "    try:\n",
    "        if not os.path.exists(dn):   \n",
    "            os.makedirs(dn)\n",
    "    except:\n",
    "        pass\n",
    "\n",
    "    # 存json格式\n",
    "    ## 宋詞\n",
    "    f = open(dn + \"/\"+ file + \".json\", \"w\", encoding=\"utf-8\") # 打開路徑\n",
    "    json.dump(final_dic, f) # 寫入json格式\n",
    "    f.close() # 關閉路徑\n",
    "    \n",
    "    ## 錯誤清單\n",
    "    e = open(dn + \"/\"+ error_file + \".json\", \"w\", encoding=\"utf-8\") # 打開路徑\n",
    "    json.dump(error_list, e) # 寫入json格式\n",
    "    e.close() # 關閉路徑\n",
    "    print(\"json存檔完成\") # 檢查哨\n",
    "\n",
    "    # 存csv格式\n",
    "    ## 宋詞\n",
    "    final_dic_df = pd.DataFrame(final_dic)\n",
    "    final_dic_df.to_csv(dn + \"/\"+ file + \".csv\",encoding=\"utf-8\", index=False)\n",
    "    \n",
    "    ## 錯誤清單\n",
    "    error_list_df = pd.DataFrame(error_list)\n",
    "    error_list_df.to_csv(dn + \"/\"+ error_file + \".csv\",encoding=\"utf-8\", index=False)\n",
    "    print(\"csv存檔完成\") # 檢查哨\n",
    "    print(\"-\" * 80)\n",
    "    print(\"-\" * 80)\n",
    "\n",
    "    # DONE\n",
    "    print(\"存檔完成\") # 檢查哨"
   ]
  },
  {
   "cell_type": "markdown",
   "metadata": {},
   "source": [
    "#### 2. 爬蟲\n",
    "經測試後，發現替換user-agent即可"
   ]
  },
  {
   "cell_type": "code",
   "execution_count": 7,
   "metadata": {},
   "outputs": [],
   "source": [
    "# user-agent池\n",
    "UA_pool = [] #空池\n",
    "ua = UserAgent() # 設定User-Agent()\n",
    "\n",
    "for i in range(50): # 先取50個偽User-Agent就好\n",
    "    UA_pool.append(ua.random) # 偽User-Agent加入UA_pool\n",
    "\n",
    "# 隨機生成UA的函式\n",
    "def UA():  \n",
    "    num = random.randint(0, 20) \n",
    "    UA = UA_pool[num]\n",
    "    headers = {'User-Agent': UA} #ua.random\n",
    "    return headers"
   ]
  },
  {
   "cell_type": "code",
   "execution_count": 8,
   "metadata": {},
   "outputs": [],
   "source": [
    "# 設個最終字串，供爬完後放入\n",
    "\n",
    "final_dic = [] # 總字典\n",
    "error_list = [] #錯誤回報"
   ]
  },
  {
   "cell_type": "code",
   "execution_count": null,
   "metadata": {
    "scrolled": true
   },
   "outputs": [],
   "source": [
    "# start 設定\n",
    "try: \n",
    "    start_ = final_dic[-1]['id'] + 1 # 接續上一筆資料'後一筆'開始爬，所以須+1\n",
    "    print('***接續上一筆資料後開始爬, 開始id: ', start_)\n",
    "except:\n",
    "    start_ = 1 # 如果id沒有值，則設為1\n",
    "    print(\"***找無id值,從id: \", start_, \"開始\")\n",
    "\n",
    "# end設定    \n",
    "end_ = 254240+1\n",
    "\n",
    "print(\"=\"*80)\n",
    "print(\"\")\n",
    "\n",
    "# 開始爬蟲\n",
    "for i in range(start_, end_):\n",
    "\n",
    "    URL = 'http://www.chinabooktrading.com/song/fullText.jsp?a=1&e=1&u='+str(i)+'&b=4'\n",
    "    print(\"抓取網址: \", URL) # 檢查哨\n",
    "    headers = UA()\n",
    "    print(\"偽user-agent: \", headers)\n",
    "\n",
    "    # 發現從左側宋詞列表按右鍵，\"複製連結“得超連結網址\n",
    "    res = s.get(URL, headers = headers) #, timeout= 10) # 詩連結\n",
    "    \n",
    "    try:\n",
    "        # 解析網頁\n",
    "        html = bs(res.text)\n",
    "    \n",
    "        # 取詞體\n",
    "        poem  = html.find(\"div\", style = \"clear: both; margin-bottom: 25px;\")\n",
    "        print(\"解析網頁...\") # 檢查哨\n",
    "\n",
    "        # 要存入的內容\n",
    "        title = poem.find(\"h3\", class_ = \"TEXT_DARK\").text # 詞名\n",
    "        author = poem.find_all(\"h4\", class_ = \"TEXT_LIGHT\")[0].text # 作者名\n",
    "        rhyme = poem.find_all(\"h4\", class_ = \"TEXT_LIGHT\")[1].text # 押韻\n",
    "        poemType = poem.find_all(\"h4\", class_ = \"TEXT_LIGHT\")[2].text # 體詩\n",
    "\n",
    "        # 詩內容\n",
    "        content =  poem.find_all(\"p\", class_ = \"\")\n",
    "        # 將詩list合併成字串\n",
    "        text = \"\"  # str\n",
    "        for x in range (len(content)):\n",
    "            text += content[x].text\n",
    "\n",
    "        poemCount = html.find_all(\"h4\", class_ = \"TEXT_LIGHT\")[-1].text # 作者總共做了幾首詩\n",
    "        history = html.find_all(\"p\")[-1].text # 作者的生平故事\n",
    "        print(\"id =\", i, \", 「\", title, \"」參數設定完成\") # 檢查哨\n",
    "\n",
    "\n",
    "        # 創詞字典\n",
    "        dic= {\n",
    "            \"id\": i,\n",
    "            \"詞名\": title,\n",
    "            \"作者\": author,\n",
    "            \"押韻\": rhyme,\n",
    "            \"體詩\": poemType,\n",
    "            \"內容\": text,\n",
    "            \"作者共做了幾首詩\": poemCount,\n",
    "            \"作者生平\": history,\n",
    "            \"網址\": URL\n",
    "             }\n",
    "\n",
    "        # 加入總字典\n",
    "        final_dic.append(dic)\n",
    "        print(\"加入總字典完成\") # 檢查哨\n",
    "        print(\"-\" * 80)\n",
    "\n",
    "        # 隨機秒數休眠\n",
    "        #sleepTime = random.randint(0, 1) \n",
    "        #sleep(sleepTime)\n",
    "        \n",
    "        if i % 50000 ==0: # 每5萬筆存一次\n",
    "            save()\n",
    "            \n",
    "        \n",
    "    except:\n",
    "        # 將錯誤連結網址建成字典\n",
    "        error_dic = {\n",
    "            \"id\":i,\n",
    "            \"網址\":URL\n",
    "        }\n",
    "        print(\"***錯誤連結id: \", i, \", 網址: \", URL)\n",
    "        \n",
    "        # 將「錯誤連結字典」放入「錯誤連結清單」\n",
    "        error_list.append(error_dic )\n",
    "        print(\"***錯誤連結加入錯誤清單完成\")\n",
    "        print(\"-\" * 80)\n",
    "\n",
    "save() # 總存檔\n",
    "\n",
    "print(\"爬蟲Done!\")"
   ]
  },
  {
   "cell_type": "code",
   "execution_count": 28,
   "metadata": {
    "scrolled": true
   },
   "outputs": [
    {
     "data": {
      "text/plain": [
       "{'id': 207933,\n",
       " '詞名': ' 曲肱詩  其一三 ',\n",
       " '作者': '白玉蟾',\n",
       " '押韻': '押十灰',\n",
       " '體詩': '七言絕句\\u3000首句平起入平韻式',\n",
       " '內容': '白雲隨我見天台，又趁金華路上迴。棲鳳亭中留不去，武夷山下野猿哀。',\n",
       " '作者共做了幾首詩': '共有詩1205首',\n",
       " '作者生平': '白玉蟾（一一九四～？），本名葛長庚，因繼雷州白氏爲後，改今名。字白叟、以閲、衆甫，號海瓊子、海南翁、瓊山道人、蠙菴、武夷散人、神霄散吏、紫清真人，閩清（今屬福建）人，生于瓊山（今屬海南）。師事陳楠學道，遍歷名山。寧宗嘉定中詔赴闕，命館太乙宮，賜號紫清明道真人（明嘉靖《建寧府志》卷二一）。全真教尊爲南五祖之一。有《海瓊集》、《武夷集》、《上清集》、《玉隆集》等，由其徒彭耜合纂爲《海瓊玉蟾先生文集》四十卷。事見本集卷首彭耜《海瓊玉蟾先生事實》。\\u3000白玉蟾詩，以明正統{月翟}仙重編《海瓊玉蟾先生文集》六卷、續集二卷爲底本。校以影印《道藏》本《上清集》、《武夷集》、《玉隆集》（簡稱上清集、武夷集、玉隆集），明萬曆藍格鈔《海瓊白真人文集》（簡稱明鈔本，藏北京大學圖書館），劉雙松安正堂刊《新刻瓊琯白先生集》（簡稱劉本），清乾隆刊《宋海瓊白真人詩文全集》（簡稱乾隆本）。校本多出底本之詩及新輯集外詩，另編爲一卷。',\n",
       " '網址': 'http://www.chinabooktrading.com/song/fullText.jsp?a=1&e=1&u=207933&b=4'}"
      ]
     },
     "execution_count": 28,
     "metadata": {},
     "output_type": "execute_result"
    }
   ],
   "source": [
    "# 檢視最後一筆資料\n",
    "final_dic[-1]"
   ]
  },
  {
   "cell_type": "markdown",
   "metadata": {},
   "source": [
    "### 萬一爬蟲中斷了...\n",
    "載入上次中斷地方的json檔"
   ]
  },
  {
   "cell_type": "code",
   "execution_count": 14,
   "metadata": {},
   "outputs": [],
   "source": [
    "# 宋詞資料\n",
    "with open(\"./ouptput/SongShi_content_254240.json\",'r') as data: # 開啟資料夾\n",
    "    final_dic= json.load(data)\n",
    "data.close() # 關閉資料夾"
   ]
  },
  {
   "cell_type": "code",
   "execution_count": 15,
   "metadata": {},
   "outputs": [
    {
     "data": {
      "text/plain": [
       "[{'id': 254239,\n",
       "  '詞名': ' 宣妙樓   ',\n",
       "  '作者': '方鴻飛',\n",
       "  '押韻': '押六麻',\n",
       "  '體詩': '七言律詩\\u3000首句仄起入平韻式',\n",
       "  '內容': '雲觀烟樓是梵家，竹圍如洗逼寒沙。因風綠浪摇晴麥，遇雨紅香落澗花。人鎖晝房聽鳥語，僧歸晚塢放蜂衙。不須老遠來沽酒，只覓天酥爲點茶。',\n",
       "  '作者共做了幾首詩': '共有詩1首',\n",
       "  '作者生平': '方鴻飛，嵊縣（今浙江嵊州）人。',\n",
       "  '網址': 'http://www.chinabooktrading.com/song/fullText.jsp?a=1&e=1&u=254239&b=4'},\n",
       " {'id': 254240,\n",
       "  '詞名': ' 登凌雲山絕頂   ',\n",
       "  '作者': '葉升',\n",
       "  '押韻': '押八齊',\n",
       "  '體詩': '七言律詩\\u3000首句平起入平韻式',\n",
       "  '內容': '崔巍萬仞儼危梯，躡履多憑一杖藜。老宦躋崖沖斗動，高朋立頂惹風啼。振衣遠望乾坤小，舉首回看日月低。自是登天疑有路，雲山縹緲夕陽西。',\n",
       "  '作者共做了幾首詩': '共有詩1首',\n",
       "  '作者生平': '葉升，南安（今福建南安東）人。第進士，曾官主簿（《南安縣志》卷四八）。',\n",
       "  '網址': 'http://www.chinabooktrading.com/song/fullText.jsp?a=1&e=1&u=254240&b=4'}]"
      ]
     },
     "execution_count": 15,
     "metadata": {},
     "output_type": "execute_result"
    }
   ],
   "source": [
    "# 檢視最後一筆資料\n",
    "final_dic[-2:]"
   ]
  },
  {
   "cell_type": "code",
   "execution_count": 16,
   "metadata": {},
   "outputs": [
    {
     "data": {
      "text/plain": [
       "[{'id': 31791,\n",
       "  '網址': 'http://www.chinabooktrading.com/song/fullText.jsp?a=1&e=1&u=31791&b=4'},\n",
       " {'id': 99531,\n",
       "  '網址': 'http://www.chinabooktrading.com/song/fullText.jsp?a=1&e=1&u=99531&b=4'}]"
      ]
     },
     "execution_count": 16,
     "metadata": {},
     "output_type": "execute_result"
    }
   ],
   "source": [
    "# 錯誤連結資料\n",
    "with open(\"./ouptput/error_list1.json\",'r') as error: # 開啟資料夾\n",
    "    error_list= json.load(error) \n",
    "error.close() # 關閉資料夾\n",
    "error_list"
   ]
  },
  {
   "cell_type": "code",
   "execution_count": null,
   "metadata": {},
   "outputs": [],
   "source": []
  }
 ],
 "metadata": {
  "kernelspec": {
   "display_name": "Python 3",
   "language": "python",
   "name": "python3"
  },
  "language_info": {
   "codemirror_mode": {
    "name": "ipython",
    "version": 3
   },
   "file_extension": ".py",
   "mimetype": "text/x-python",
   "name": "python",
   "nbconvert_exporter": "python",
   "pygments_lexer": "ipython3",
   "version": "3.7.4"
  }
 },
 "nbformat": 4,
 "nbformat_minor": 2
}
