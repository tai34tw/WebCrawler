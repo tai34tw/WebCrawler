{
 "cells": [
  {
   "cell_type": "markdown",
   "metadata": {},
   "source": [
    "# 練習網址：https://statementdog.com/\n",
    "## 目標\n",
    "爬取任一公司(ex. 4754 國碳科)中股票健診的文字，如排除地雷股健診、定存股健診、成長股健診內之完整健診細節。\n",
    "## 步驟\n",
    "1. 使用selenium登入會員，得cookies。\n",
    "2. 將所得cookies塞入requests內，方便後續爬蟲。\n",
    "3. 因所爬取內容由javascript寫成，故尋找關鍵網址後，開始爬取資料。"
   ]
  },
  {
   "cell_type": "code",
   "execution_count": 3,
   "metadata": {
    "colab": {},
    "colab_type": "code",
    "id": "acBrGNqv23BH"
   },
   "outputs": [],
   "source": [
    "#!/usr/bin/env python\n",
    "#coding=utf-8"
   ]
  },
  {
   "cell_type": "code",
   "execution_count": 4,
   "metadata": {
    "colab": {},
    "colab_type": "code",
    "id": "iGP6K8P2CyvU"
   },
   "outputs": [
    {
     "name": "stdout",
     "output_type": "stream",
     "text": [
      "套件載入完成\n"
     ]
    }
   ],
   "source": [
    "# 建立各種 HTTP 請求，從網頁伺服器上取得想要的資料\n",
    "import requests\n",
    "\n",
    "# 用來解析處理requests取得的數據; processing XML and HTML\n",
    "from lxml import html\n",
    "\n",
    "# 一個HTML解析器，可以處理各種奇怪的HTML\n",
    "from bs4 import BeautifulSoup as bs\n",
    "\n",
    "# 模擬人操作行為\n",
    "from selenium.webdriver import Chrome\n",
    "\n",
    "# 睡眠用\n",
    "from time import sleep\n",
    "\n",
    "# 帳密位置\n",
    "import sys\n",
    "sys.path.append(\"../../../../Downloads\")\n",
    "import statementdog\n",
    "\n",
    "# 處理javascript用\n",
    "import json\n",
    "\n",
    "# 能處理載入、整理與視覺化等常見的資料應用套件\n",
    "import pandas as pd\n",
    "\n",
    "# 隨機睡眠用\n",
    "import random\n",
    "\n",
    "print('套件載入完成')"
   ]
  },
  {
   "cell_type": "markdown",
   "metadata": {
    "colab": {
     "base_uri": "https://localhost:8080/",
     "height": 122
    },
    "colab_type": "code",
    "executionInfo": {
     "elapsed": 43692,
     "status": "ok",
     "timestamp": 1575442351896,
     "user": {
      "displayName": "TAI",
      "photoUrl": "https://lh3.googleusercontent.com/a-/AAuE7mB6Oxhq45vaDKznjqC42PF_z4Vl7xBt0REFIkZCYQ=s64",
      "userId": "07774962178873982506"
     },
     "user_tz": -480
    },
    "id": "SvFLz4ow22KZ",
    "outputId": "6c64130a-f120-4634-b291-be931c4da6f1"
   },
   "source": [
    "#### 在Colab上，取得google drive的存取授權\n",
    "```python\n",
    "from google.colab import drive\n",
    "drive.mount('/content/drive')\n",
    "```"
   ]
  },
  {
   "cell_type": "code",
   "execution_count": 5,
   "metadata": {},
   "outputs": [],
   "source": [
    "# 指定driver位置\n",
    "driver = Chrome('./chromedriver')"
   ]
  },
  {
   "cell_type": "code",
   "execution_count": 6,
   "metadata": {
    "colab": {},
    "colab_type": "code",
    "id": "bNChjtBagFLc"
   },
   "outputs": [],
   "source": [
    "# 建立登入相關訊息\n",
    "# 參考資料：https://ithelp.ithome.com.tw/articles/10193266\n",
    "LOGIN_URL = 'https://statementdog.com/users/sign_in' #登入會員網址\n",
    "USERID = statementdog.id() # 帳號\n",
    "PASSWORD = statementdog.password() # 密碼\n",
    "HEADERS = statementdog.headers() # headers "
   ]
  },
  {
   "cell_type": "markdown",
   "metadata": {},
   "source": [
    "### 使用selenium登入網頁\n",
    "\n",
    "```python\n",
    "- driver.find_element_by_id('關鍵字串') # 找id\n",
    "- driver.find_element_by_class_name('關鍵字串') # 找class\n",
    "```"
   ]
  },
  {
   "cell_type": "code",
   "execution_count": 7,
   "metadata": {},
   "outputs": [
    {
     "name": "stdout",
     "output_type": "stream",
     "text": [
      "登入成功\n"
     ]
    }
   ],
   "source": [
    "driver.get(LOGIN_URL) # 登入會員網址\n",
    "\n",
    "# 輸入帳號\n",
    "driver.find_element_by_id('user_email').send_keys(USERID) # 輸入帳號\n",
    "sleep(3) # 休息3秒\n",
    "\n",
    "# 輸入密碼\n",
    "driver.find_element_by_id('user_password').click() # 點擊輸入密碼區域，以便輸入密碼\n",
    "driver.find_element_by_id('user_password').send_keys(PASSWORD) #輸入密碼\n",
    "\n",
    "sleep(3) # 休息3秒\n",
    "driver.find_element_by_class_name('submit-btn').click() # 點擊\"登入\" # 找無id, 找class\n",
    "\n",
    "print('登入成功')"
   ]
  },
  {
   "cell_type": "code",
   "execution_count": 8,
   "metadata": {
    "scrolled": true
   },
   "outputs": [],
   "source": [
    "# 得cookies\n",
    "cookies_list = driver.get_cookies()\n",
    "\n",
    "# 關瀏覽器\n",
    "driver.close()\n",
    "\n",
    "# 檢視cookies_list\n",
    "# cookies_list "
   ]
  },
  {
   "cell_type": "markdown",
   "metadata": {},
   "source": [
    "### 設定requests"
   ]
  },
  {
   "cell_type": "code",
   "execution_count": 7,
   "metadata": {
    "colab": {},
    "colab_type": "code",
    "id": "RzlvF-BmgSwQ"
   },
   "outputs": [],
   "source": [
    "# 請求時保持某些引數，例如cookie\n",
    "s = requests.session()\n",
    "\n",
    "# cookies_list為一個list包字典，將cookie名字和值拿出來，然後設定session中\n",
    "for cookie in cookies_list:\n",
    "    s.cookies.set(cookie['name'], cookie['value']) # 之後的造訪就會自動帶入cookie\n",
    "\n",
    "# headers\n",
    "headers = {'user-agent': HEADERS}"
   ]
  },
  {
   "cell_type": "markdown",
   "metadata": {},
   "source": [
    "### 爬蟲\n",
    "因主要爬取之資料由javascript寫成，故需找來源資料。\n",
    "1. 將selenium登入會員後，所得cookies塞進requests內，方便後續爬蟲。\n",
    "\n",
    "```python\n",
    "# 請求時保持某些引數，例如cookie\n",
    "s = requests.session()\n",
    "\n",
    "# cookies_list為一個list包字典，將cookie名字和值拿出來，然後設定session中\n",
    "for cookie in cookies_list:\n",
    "    s.cookies.set(cookie['name'], cookie['value']) # 之後的造訪就會自動帶入cookie\n",
    "```\n",
    "\n",
    "2. 排除「地雷股健診」、「定存股健診」、「成長股健診」報告敘述，找到來源網址後解析(程式碼如下)，發現主要報告內容為計算及判別式所編成，故寫成函式後續利用：\n",
    "\n",
    "```python\n",
    "# 從Network > JS > analysis-50... > Headers 之Request URL找到引用網址，透過Response含所需資料\n",
    "report = s.get('https://statementdog.com/assets/analysis-a50d1de8003ac1709244712dde20436832c4c8549f911dba16e94febae9a62e5.js', headers = headers)\n",
    "reprotText = report.text\n",
    "\n",
    "# 將報告轉碼至人類可讀，可發現主要報告內容為計算及判別式所編成\n",
    "reprotText = reprotText.encode('utf-8').decode('unicode_escape')\n",
    "reprotText\n",
    "\n",
    "# 寫成函式，方便排除地雷股健診、定存股健診、成長股健診報告呈現利用。\n",
    "```\n",
    "\n",
    "3. 「完整健診細節」內容，找到來源網址後，發現為json格式，直接可以利用。"
   ]
  },
  {
   "cell_type": "markdown",
   "metadata": {},
   "source": [
    "- **報告內容之函式**"
   ]
  },
  {
   "cell_type": "code",
   "execution_count": null,
   "metadata": {
    "scrolled": false
   },
   "outputs": [],
   "source": [
    "# 從Network > JS > analysis-50... > Headers 之Request URL找到引用網址，透過Response含所需資料\n",
    "report = s.get('https://statementdog.com/assets/analysis-a50d1de8003ac1709244712dde20436832c4c8549f911dba16e94febae9a62e5.js', headers = headers)\n",
    "reprotText = report.text\n",
    "\n",
    "# 將報告轉碼至人類可讀，可發現主要報告內容為計算及判別式所編成\n",
    "reprotText = reprotText.encode('utf-8').decode('unicode_escape')\n",
    "reprotText"
   ]
  },
  {
   "cell_type": "code",
   "execution_count": 9,
   "metadata": {},
   "outputs": [],
   "source": [
    "# 將報告寫成函式\n",
    "# 排除地雷股健診\n",
    "def bombReport_(name, passedRatio):\n",
    "    if passedRatio <= 40:\n",
    "        bombText = '{name}通過 {passedRatio}% 排除地雷股檢查項目，顯示公司財務體質風險高。如果你偏好體質穩健的公司，{name}可以先暫時觀望。'\n",
    "    elif 40 < passedRatio <50:  \n",
    "        bombText = '{name}通過 {passedRatio}% 排除地雷股檢查項目，代表公司財務體質有部分缺陷，沒有通過的檢查項目都必須特別留意小心。'\n",
    "    elif 50 <= passedRatio <67:  \n",
    "        bombText = '{name}通過 {passedRatio}% 排除地雷股檢查項目，整體財務體質表現算及格。如果其他財務健診結果也不錯，可以考慮加入追蹤觀察。'\n",
    "    elif passedRatio >= 67:\n",
    "        bombText = '{name}通過 {passedRatio}% 排除地雷股檢查項目，代表公司是地雷股的風險低。如果你偏好體質穩健的公司，{name}值得你加入追蹤觀察。'\n",
    "    bombReport = bombText.format(name=name, passedRatio=passedRatio)\n",
    "    return bombReport\n",
    "\n",
    "# 定存股健診\n",
    "def cd_(name, passedRatio):\n",
    "    if passedRatio <= 40:\n",
    "        cdText = '{name}通過 {passedRatio}% 定存股鑑定項目，顯示公司股利發放與殖利率表現差。如果你偏好高股息高殖利率的公司，{name}並不適合你。'\n",
    "    elif 40 < passedRatio <50:  \n",
    "        cdText = '{name}通過 {passedRatio}% 定存股鑑定項目，顯示公司股利發放與殖利率表現不吸引人。如果你偏好高股息高殖利率的公司，{name}可以先暫時觀望'\n",
    "    elif 50 <= passedRatio <67:  \n",
    "        cdText = '{name}通過 {passedRatio}% 定存股鑑定項目，公司股利發放與殖利率表現還算及格。如果其他財務健診結果也不錯，可以考慮加入追蹤觀察。'\n",
    "    elif passedRatio >= 67:\n",
    "        cdText = '{name}通過 {passedRatio}% 定存股鑑定項目，代表公司股利發放與殖利率表現優異。如果你偏好高股息高殖利率的公司，\",i,\"值得你加入追蹤觀察。'\n",
    "    cdReport = cdText.format(name=name, passedRatio=passedRatio)\n",
    "    return cdReport\n",
    "\n",
    "# 成長股健診\n",
    "def growth_(name, passedRatio):\n",
    "    if passedRatio <= 40:\n",
    "        growthText = '{name}通過 {passedRatio}% 成長股檢查項目，顯示公司近期業績成長表現差勁。如果你偏好短期有成長動能的公司，{name}並不適合你。'\n",
    "    elif 40 < passedRatio <50:  \n",
    "        growthText = '{name}通過 {passedRatio}% 成長股檢查項目，顯示公司近期業績成長表現不吸引人。如果你偏好短期有成長動能的公司，{name}可先暫時觀望。'\n",
    "    elif 50 <= passedRatio <67:  \n",
    "        growthText = '{name}通過 {passedRatio}% 成長股檢查項目，代表近期成長表現還算及格。如果其他財務健診結果也不錯，可以考慮加入追蹤觀察。'\n",
    "    elif passedRatio >= 67:\n",
    "        growthText = '{name}通過 {passedRatio}% 成長股檢查項目，代表公司近期業績成長優異。如果你偏好短期有成長動能的公司，{name}值得你加入追蹤觀察。'\n",
    "    growthReport = growthText.format(name=name, passedRatio=passedRatio)\n",
    "    return growthReport\n",
    "\n",
    "# 便宜股健診\n",
    "def cheap_(name, passedRatio):\n",
    "    if passedRatio <= 40:\n",
    "        cheapText = '{name}通過 {passedRatio}% 股價是否低估的檢查項目，初步來看公司股價並未低估。如果你偏好股價有明顯低估的公司，{name}並不適合你。'\n",
    "    elif 40 < passedRatio <50:  \n",
    "        cheapText = '{name}通過 {passedRatio}% 股價是否低估的檢查項目，初步來看公司股價未明顯低估。除非其他財務表現都不錯，不然{name}可先暫時觀望。'\n",
    "    elif 50 <= passedRatio <67:  \n",
    "        cheapText = '{name}通過 {passedRatio}% 股價是否低估的檢查項目，初步來看公司股價並不算貴。如果其他財務健診結果也不錯，{name}可以考慮進一步深入研究。'\n",
    "    elif passedRatio >= 67:\n",
    "        cheapText = '{name}通過 {passedRatio}%股價是否低估的檢查項目，顯示股價可能被低估。如果你偏好股價低估的公司，{name}可以加入追蹤觀察。'\n",
    "    cheapReport = cheapText.format(name=name, passedRatio=passedRatio)\n",
    "    return cheapReport"
   ]
  },
  {
   "cell_type": "markdown",
   "metadata": {},
   "source": [
    "- **「完整健診細節」內容**\n",
    "    - 先以4754 國碳科之「排除地雷股健診」、「定存股健診」、「成長股健診」細節為範例。"
   ]
  },
  {
   "cell_type": "code",
   "execution_count": 10,
   "metadata": {
    "scrolled": true
   },
   "outputs": [
    {
     "data": {
      "text/plain": [
       "'{\"bomb\":{\"status\":\"confirmed\",\"check_list\":{\"count\":6,\"passed\":1,\"pass_ratio\":17.0,\"items\":[{\"name\":\"自由現金流入近五年有三年大於 0\",\"value\":true},{\"name\":\"自由現金流入近五年平均大於 0\",\"value\":false},{\"name\":\"營業現金流入對淨利比近五年有三年大於 100%\",\"value\":false},{\"name\":\"營業現金流入對淨利比近五年平均大於 100%\",\"value\":false},{\"name\":\"應收帳款週轉天數小於等於去年同期數據\",\"value\":false},{\"name\":\"存貨週轉天數小於等於去年同期數據\",\"value\":false}]},\"task\":null},\"cd\":{\"status\":\"confirmed\",\"check_list\":{\"count\":5,\"passed\":3,\"pass_ratio\":60.0,\"items\":[{\"name\":\"近一年股息殖利率大於 6 %\",\"value\":false},{\"name\":\"近五年平均股息殖利率大於 6 %\",\"value\":false},{\"name\":\"連續五年都有發股息\",\"value\":true},{\"name\":\"股息發放率五年內有三年大於 50 %\",\"value\":true},{\"name\":\"股息發放率五年平均大於 50%\",\"value\":true}]},\"task\":\"註冊成爲免費會員\"},\"growth\":{\"status\":\"confirmed\",\"check_list\":{\"count\":5,\"passed\":1,\"pass_ratio\":20.0,\"items\":[{\"name\":\"月營收 YOY 連續三個月大於 0\",\"value\":false},{\"name\":\"近一季毛利年增率大於 0\",\"value\":true},{\"name\":\"近一季營業利益年增率大於 0\",\"value\":false},{\"name\":\"近一季稅前淨利年增率大於 0\",\"value\":false},{\"name\":\"近一季稅後淨利年增率大於 0\",\"value\":false}]},\"task\":\"註冊成爲免費會員\"},\"cheap\":{\"status\":\"confirmed\",\"check_list\":{\"count\":6,\"passed\":1,\"pass_ratio\":17.0,\"items\":[{\"name\":\"本益比在 5 年內區間最低 20 %\",\"value\":false},{\"name\":\"本益比低於 50 % 公司\",\"value\":true},{\"name\":\"股價淨值比在 5 年內區間最低 20 %\",\"value\":false},{\"name\":\"股價淨值比低於 50 % 公司\",\"value\":false},{\"name\":\"近一年股息殖利率大於 6 %\",\"value\":false},{\"name\":\"近五年平均股息殖利率大於 6 %\",\"value\":false}]},\"task\":\"註冊成爲免費會員\"},\"chip\":{\"status\":\"locked\",\"check_list\":{},\"task\":\"成為付費會員\"},\"quality\":{\"status\":\"locked\",\"check_list\":{},\"task\":\"成為付費會員\"},\"turnaround\":{\"status\":\"locked\",\"check_list\":{},\"task\":\"成為付費會員\"},\"stock\":{\"ticker\":\"4754\",\"name\":\"國碳科\"},\"total_modules_count\":7,\"unlocked_modules_count\":4,\"category\":\"化工\"}'"
      ]
     },
     "execution_count": 10,
     "metadata": {},
     "output_type": "execute_result"
    }
   ],
   "source": [
    "# 從Network > XHR > healthcheck > Headers之Request URL找到引用網址，透過Response含所需資料\n",
    "apiURL = 'https://statementdog.com/api/v1/stocks/'\n",
    "res = s.get(apiURL  + '4754' + '/health_check', headers = headers)\n",
    "res.text # 得資料，發現為json"
   ]
  },
  {
   "cell_type": "code",
   "execution_count": 11,
   "metadata": {
    "scrolled": true
   },
   "outputs": [
    {
     "data": {
      "text/plain": [
       "{'bomb': {'status': 'confirmed',\n",
       "  'check_list': {'count': 6,\n",
       "   'passed': 1,\n",
       "   'pass_ratio': 17.0,\n",
       "   'items': [{'name': '自由現金流入近五年有三年大於 0', 'value': True},\n",
       "    {'name': '自由現金流入近五年平均大於 0', 'value': False},\n",
       "    {'name': '營業現金流入對淨利比近五年有三年大於 100%', 'value': False},\n",
       "    {'name': '營業現金流入對淨利比近五年平均大於 100%', 'value': False},\n",
       "    {'name': '應收帳款週轉天數小於等於去年同期數據', 'value': False},\n",
       "    {'name': '存貨週轉天數小於等於去年同期數據', 'value': False}]},\n",
       "  'task': None},\n",
       " 'cd': {'status': 'confirmed',\n",
       "  'check_list': {'count': 5,\n",
       "   'passed': 3,\n",
       "   'pass_ratio': 60.0,\n",
       "   'items': [{'name': '近一年股息殖利率大於 6 %', 'value': False},\n",
       "    {'name': '近五年平均股息殖利率大於 6 %', 'value': False},\n",
       "    {'name': '連續五年都有發股息', 'value': True},\n",
       "    {'name': '股息發放率五年內有三年大於 50 %', 'value': True},\n",
       "    {'name': '股息發放率五年平均大於 50%', 'value': True}]},\n",
       "  'task': '註冊成爲免費會員'},\n",
       " 'growth': {'status': 'confirmed',\n",
       "  'check_list': {'count': 5,\n",
       "   'passed': 1,\n",
       "   'pass_ratio': 20.0,\n",
       "   'items': [{'name': '月營收 YOY 連續三個月大於 0', 'value': False},\n",
       "    {'name': '近一季毛利年增率大於 0', 'value': True},\n",
       "    {'name': '近一季營業利益年增率大於 0', 'value': False},\n",
       "    {'name': '近一季稅前淨利年增率大於 0', 'value': False},\n",
       "    {'name': '近一季稅後淨利年增率大於 0', 'value': False}]},\n",
       "  'task': '註冊成爲免費會員'},\n",
       " 'cheap': {'status': 'confirmed',\n",
       "  'check_list': {'count': 6,\n",
       "   'passed': 1,\n",
       "   'pass_ratio': 17.0,\n",
       "   'items': [{'name': '本益比在 5 年內區間最低 20 %', 'value': False},\n",
       "    {'name': '本益比低於 50 % 公司', 'value': True},\n",
       "    {'name': '股價淨值比在 5 年內區間最低 20 %', 'value': False},\n",
       "    {'name': '股價淨值比低於 50 % 公司', 'value': False},\n",
       "    {'name': '近一年股息殖利率大於 6 %', 'value': False},\n",
       "    {'name': '近五年平均股息殖利率大於 6 %', 'value': False}]},\n",
       "  'task': '註冊成爲免費會員'},\n",
       " 'chip': {'status': 'locked', 'check_list': {}, 'task': '成為付費會員'},\n",
       " 'quality': {'status': 'locked', 'check_list': {}, 'task': '成為付費會員'},\n",
       " 'turnaround': {'status': 'locked', 'check_list': {}, 'task': '成為付費會員'},\n",
       " 'stock': {'ticker': '4754', 'name': '國碳科'},\n",
       " 'total_modules_count': 7,\n",
       " 'unlocked_modules_count': 4,\n",
       " 'category': '化工'}"
      ]
     },
     "execution_count": 11,
     "metadata": {},
     "output_type": "execute_result"
    }
   ],
   "source": [
    "# 整理成json格式，人類可讀\n",
    "data = json.loads(res.text)\n",
    "data"
   ]
  },
  {
   "cell_type": "code",
   "execution_count": 12,
   "metadata": {},
   "outputs": [
    {
     "data": {
      "text/plain": [
       "dict_keys(['bomb', 'cd', 'growth', 'cheap', 'chip', 'quality', 'turnaround', 'stock', 'total_modules_count', 'unlocked_modules_count', 'category'])"
      ]
     },
     "execution_count": 12,
     "metadata": {},
     "output_type": "execute_result"
    }
   ],
   "source": [
    "# 找出jason的key值\n",
    "data.keys()"
   ]
  },
  {
   "cell_type": "markdown",
   "metadata": {},
   "source": [
    "其中'bomb'為「排除地雷股健診」、'cd'為「定存股健診」、'growth'為「成長股健診」"
   ]
  },
  {
   "cell_type": "code",
   "execution_count": 13,
   "metadata": {},
   "outputs": [
    {
     "data": {
      "text/html": [
       "<div>\n",
       "<style scoped>\n",
       "    .dataframe tbody tr th:only-of-type {\n",
       "        vertical-align: middle;\n",
       "    }\n",
       "\n",
       "    .dataframe tbody tr th {\n",
       "        vertical-align: top;\n",
       "    }\n",
       "\n",
       "    .dataframe thead th {\n",
       "        text-align: right;\n",
       "    }\n",
       "</style>\n",
       "<table border=\"1\" class=\"dataframe\">\n",
       "  <thead>\n",
       "    <tr style=\"text-align: right;\">\n",
       "      <th></th>\n",
       "      <th>有價證券代號及名稱</th>\n",
       "      <th>國際證券辨識號碼(ISIN Code)</th>\n",
       "      <th>上市日</th>\n",
       "      <th>市場別</th>\n",
       "      <th>產業別</th>\n",
       "      <th>CFICode</th>\n",
       "      <th>備註</th>\n",
       "    </tr>\n",
       "  </thead>\n",
       "  <tbody>\n",
       "    <tr>\n",
       "      <th>937</th>\n",
       "      <td>9944　新麗</td>\n",
       "      <td>TW0009944009</td>\n",
       "      <td>2002/8/26</td>\n",
       "      <td>上市</td>\n",
       "      <td>其他業</td>\n",
       "      <td>ESVUFR</td>\n",
       "      <td>NaN</td>\n",
       "    </tr>\n",
       "    <tr>\n",
       "      <th>938</th>\n",
       "      <td>9945　潤泰新</td>\n",
       "      <td>TW0009945006</td>\n",
       "      <td>1992/4/30</td>\n",
       "      <td>上市</td>\n",
       "      <td>其他業</td>\n",
       "      <td>ESVUFR</td>\n",
       "      <td>NaN</td>\n",
       "    </tr>\n",
       "    <tr>\n",
       "      <th>939</th>\n",
       "      <td>9946　三發地產</td>\n",
       "      <td>TW0009946004</td>\n",
       "      <td>2013/9/17</td>\n",
       "      <td>上市</td>\n",
       "      <td>建材營造業</td>\n",
       "      <td>ESVUFR</td>\n",
       "      <td>NaN</td>\n",
       "    </tr>\n",
       "    <tr>\n",
       "      <th>940</th>\n",
       "      <td>9955　佳龍</td>\n",
       "      <td>TW0009955005</td>\n",
       "      <td>2008/1/21</td>\n",
       "      <td>上市</td>\n",
       "      <td>其他業</td>\n",
       "      <td>ESVUFR</td>\n",
       "      <td>NaN</td>\n",
       "    </tr>\n",
       "    <tr>\n",
       "      <th>941</th>\n",
       "      <td>9958　世紀鋼</td>\n",
       "      <td>TW0009958009</td>\n",
       "      <td>2008/3/12</td>\n",
       "      <td>上市</td>\n",
       "      <td>鋼鐵工業</td>\n",
       "      <td>ESVUFR</td>\n",
       "      <td>NaN</td>\n",
       "    </tr>\n",
       "  </tbody>\n",
       "</table>\n",
       "</div>"
      ],
      "text/plain": [
       "     有價證券代號及名稱 國際證券辨識號碼(ISIN Code)        上市日 市場別    產業別 CFICode  備註\n",
       "937    9944　新麗        TW0009944009  2002/8/26  上市    其他業  ESVUFR NaN\n",
       "938   9945　潤泰新        TW0009945006  1992/4/30  上市    其他業  ESVUFR NaN\n",
       "939  9946　三發地產        TW0009946004  2013/9/17  上市  建材營造業  ESVUFR NaN\n",
       "940    9955　佳龍        TW0009955005  2008/1/21  上市    其他業  ESVUFR NaN\n",
       "941   9958　世紀鋼        TW0009958009  2008/3/12  上市   鋼鐵工業  ESVUFR NaN"
      ]
     },
     "execution_count": 13,
     "metadata": {},
     "output_type": "execute_result"
    }
   ],
   "source": [
    "# 讀取之前下載好的有有價證券代號及名稱\n",
    "stockList = pd.read_csv(\"stockList.csv\", encoding='utf-8')\n",
    "stockList.tail(5)"
   ]
  },
  {
   "cell_type": "code",
   "execution_count": 14,
   "metadata": {},
   "outputs": [
    {
     "data": {
      "text/plain": [
       "0        1101　台泥\n",
       "1        1102　亞泥\n",
       "2        1103　嘉泥\n",
       "3        1104　環泥\n",
       "4        1108　幸福\n",
       "         ...    \n",
       "937      9944　新麗\n",
       "938     9945　潤泰新\n",
       "939    9946　三發地產\n",
       "940      9955　佳龍\n",
       "941     9958　世紀鋼\n",
       "Name: 有價證券代號及名稱, Length: 942, dtype: object"
      ]
     },
     "execution_count": 14,
     "metadata": {},
     "output_type": "execute_result"
    }
   ],
   "source": [
    "# 僅需要'有價證券代號及名稱'\n",
    "# 檢視其中一個代號及名稱\n",
    "stockList = stockList['有價證券代號及名稱'] \n",
    "stockList"
   ]
  },
  {
   "cell_type": "code",
   "execution_count": 15,
   "metadata": {},
   "outputs": [
    {
     "data": {
      "text/plain": [
       "'1101\\u3000台泥'"
      ]
     },
     "execution_count": 15,
     "metadata": {},
     "output_type": "execute_result"
    }
   ],
   "source": [
    "# 檢視一下其中一項\n",
    "stockList[0]"
   ]
  },
  {
   "cell_type": "markdown",
   "metadata": {},
   "source": [
    "發現有全行空白，記得避開。"
   ]
  },
  {
   "cell_type": "code",
   "execution_count": 16,
   "metadata": {},
   "outputs": [
    {
     "name": "stdout",
     "output_type": "stream",
     "text": [
      "有價證券代號: 1101\n",
      "有價證券名稱: 台泥\n"
     ]
    }
   ],
   "source": [
    "# 範例\n",
    "num = stockList[0][:4] # 有價證券代號\n",
    "name = stockList[0][5:] # 有價證券名稱\n",
    "print('有價證券代號:', num)\n",
    "print('有價證券名稱:', name)"
   ]
  },
  {
   "cell_type": "markdown",
   "metadata": {},
   "source": [
    "### 開始爬蟲"
   ]
  },
  {
   "cell_type": "code",
   "execution_count": null,
   "metadata": {
    "scrolled": true
   },
   "outputs": [],
   "source": [
    "# 設個最終字串，供爬完後放入\n",
    "final_dic = []\n",
    "error_list = []\n",
    "\n",
    "for stock in stockList:\n",
    "    try:\n",
    "        print('開始抓取', stock, \"之資料\")\n",
    "\n",
    "        # 有價證券代號及名稱\n",
    "        num = stock[:4] # 有價證券代號\n",
    "        name = stock[5:] # 有價證券名稱\n",
    "        print('設定有價證券代號及名稱: 代號:{num}, 名稱:{name}'.format(num=num, name=name))\n",
    "\n",
    "        # 健診細節之api網址\n",
    "        apiURL = 'https://statementdog.com/api/v1/stocks/' + str(num) + '/health_check'\n",
    "        res = s.get(apiURL, headers = headers)\n",
    "        print('設定', stock, \", api網址:\" + apiURL)\n",
    "        \n",
    "        # 將健診細節轉換成json檔\n",
    "        data = json.loads(res.text)\n",
    "\n",
    "        # 擷取json檔，設定「排除地雷股健診」、「定存股健診」、「成長股健診」、「便宜股健診」通過條件比例\n",
    "        bomb_passedRatio = data['bomb']['check_list']['pass_ratio']\n",
    "        cd_passedRatio = data['cd']['check_list']['pass_ratio']\n",
    "        growth_passedRatio = data['growth']['check_list']['pass_ratio']\n",
    "        cheap_passedRatio = data['cheap']['check_list']['pass_ratio']\n",
    "        print('設定健檢通過比例參數:「排除地雷股健診」: {bomb_passedRatio}%,「定存股健診」: {cd_passedRatio}%,「成長股健診」: {growth_passedRatio}%,「便宜股健診」: {cheap_passedRatio}%'.format(bomb_passedRatio=bomb_passedRatio, cd_passedRatio=cd_passedRatio, growth_passedRatio=growth_passedRatio, cheap_passedRatio=cheap_passedRatio))\n",
    "\n",
    "        # 設定「排除地雷股健診」、「定存股健診」、「成長股健診」、「便宜股健診」細節\n",
    "        bomb = data['bomb']['check_list']['items']\n",
    "        cd = data['cd']['check_list']['items']\n",
    "        growth = data['growth']['check_list']['items']\n",
    "        cheap = data['cheap']['check_list']['items']\n",
    "        print('設定「排除地雷股健診」、「定存股健診」、「成長股健診」、「便宜股健診」細節')\n",
    "\n",
    "        print('建立該股字典')\n",
    "        # 創造空字典，供建立該股報告\n",
    "        dic= {'有價證券代號':num,\n",
    "              '有價證券名稱':name,\n",
    "              '排除地雷股健診':bombReport_(name, bomb_passedRatio),\n",
    "              '通過排除地雷股條件比例(%)':bomb_passedRatio,\n",
    "              bomb[0]['name']:bomb[0]['value'],\n",
    "              bomb[1]['name']:bomb[1]['value'],\n",
    "              bomb[2]['name']:bomb[2]['value'],\n",
    "              bomb[3]['name']:bomb[3]['value'],\n",
    "              bomb[4]['name']:bomb[4]['value'],\n",
    "              bomb[5]['name']:bomb[5]['value'],\n",
    "\n",
    "              '定存股健診':cd_(name, cd_passedRatio),\n",
    "              '通過定存股健診條件比例(%)':cd_passedRatio,\n",
    "              cd[0]['name']:cd[0]['value'],\n",
    "              cd[1]['name']:cd[1]['value'],\n",
    "              cd[2]['name']:cd[2]['value'],\n",
    "              cd[3]['name']:cd[3]['value'],\n",
    "              cd[4]['name']:cd[4]['value'],\n",
    "\n",
    "              '成長股健診':growth_(name, growth_passedRatio),\n",
    "              '通過成長股健診條件比例(%)':growth_passedRatio,\n",
    "              growth[0]['name']:growth[0]['value'],\n",
    "              growth[1]['name']:growth[1]['value'],\n",
    "              growth[2]['name']:growth[2]['value'],\n",
    "              growth[3]['name']:growth[3]['value'],\n",
    "              growth[4]['name']:growth[4]['value'], \n",
    "              \n",
    "              '便宜股健診':cheap_(name, cheap_passedRatio),\n",
    "              '通過便宜股健診條件比例(%)':cheap_passedRatio,\n",
    "              cheap[0]['name']:cheap[0]['value'],\n",
    "              cheap[1]['name']:cheap[1]['value'],\n",
    "              cheap[2]['name']:cheap[2]['value'],\n",
    "              cheap[3]['name']:cheap[3]['value'],\n",
    "              cheap[4]['name']:cheap[4]['value'] \n",
    "        } \n",
    "\n",
    "        print(name + \"加入總字典\")\n",
    "        print(\"-\"*80)\n",
    "        final_dic.append(dic)\n",
    "\n",
    "        # 隨機秒數休眠\n",
    "        sleepTime = random.randint(1, 5) \n",
    "        sleep(sleepTime)\n",
    "        \n",
    "    except:\n",
    "        error_list.append[stock] # 將沒搜尋到證劵集中，方便後續檢視\n",
    "    \n",
    "print(\"-\"*80)\n",
    "print('全部爬取完成')"
   ]
  },
  {
   "cell_type": "code",
   "execution_count": 18,
   "metadata": {},
   "outputs": [
    {
     "data": {
      "text/plain": [
       "[]"
      ]
     },
     "execution_count": 18,
     "metadata": {},
     "output_type": "execute_result"
    }
   ],
   "source": [
    "# 檢視錯誤搜尋(沒搜尋到證劵代號)\n",
    "error_list"
   ]
  },
  {
   "cell_type": "markdown",
   "metadata": {},
   "source": [
    "### 存擋"
   ]
  },
  {
   "cell_type": "code",
   "execution_count": 19,
   "metadata": {},
   "outputs": [
    {
     "name": "stdout",
     "output_type": "stream",
     "text": [
      "存檔中...\n",
      "\n",
      "json存檔完成\n",
      "\n",
      "csv存檔完成\n",
      "\n",
      "存檔完成\n",
      "==========================================================================================\n",
      "Done!\n"
     ]
    }
   ],
   "source": [
    "## 存檔\n",
    "\n",
    "print(\"存檔中...\") #檢查哨\n",
    "print(\"\")\n",
    "\n",
    "dn = \"ouptput\" # 設立output資料夾\n",
    "file = \"stock_statementdog\" # 檔名\n",
    "\n",
    "try:\n",
    "    if not os.path.exists(dn):   \n",
    "        os.makedirs(dn)\n",
    "except:\n",
    "    pass\n",
    "    \n",
    "# 存json格式\n",
    "f = open(dn + \"/\"+ file + \".json\", \"w\", encoding=\"utf-8\") # 打開路徑\n",
    "json.dump(final_dic, f) # 寫入json格式\n",
    "f.close() # 關閉路徑\n",
    "print(\"json存檔完成\")\n",
    "print(\"\")\n",
    "\n",
    "# 存csv格式\n",
    "final_dic_df = pd.DataFrame(final_dic)\n",
    "final_dic_df.to_csv(dn + \"/\"+ file + \".csv\",encoding=\"utf-8\", index=False)\n",
    "\n",
    "print(\"csv存檔完成\")\n",
    "print(\"\")\n",
    "\n",
    "# # DONE\n",
    "print(\"存檔完成\")\n",
    "print(\"=\"*90)\n",
    "\n",
    "print(\"Done!\")"
   ]
  },
  {
   "cell_type": "code",
   "execution_count": 20,
   "metadata": {},
   "outputs": [
    {
     "data": {
      "text/html": [
       "<div>\n",
       "<style scoped>\n",
       "    .dataframe tbody tr th:only-of-type {\n",
       "        vertical-align: middle;\n",
       "    }\n",
       "\n",
       "    .dataframe tbody tr th {\n",
       "        vertical-align: top;\n",
       "    }\n",
       "\n",
       "    .dataframe thead th {\n",
       "        text-align: right;\n",
       "    }\n",
       "</style>\n",
       "<table border=\"1\" class=\"dataframe\">\n",
       "  <thead>\n",
       "    <tr style=\"text-align: right;\">\n",
       "      <th></th>\n",
       "      <th>有價證券代號</th>\n",
       "      <th>有價證券名稱</th>\n",
       "      <th>排除地雷股健診</th>\n",
       "      <th>通過排除地雷股條件比例(%)</th>\n",
       "      <th>自由現金流入近五年有三年大於 0</th>\n",
       "      <th>自由現金流入近五年平均大於 0</th>\n",
       "      <th>營業現金流入對淨利比近五年有三年大於 100%</th>\n",
       "      <th>營業現金流入對淨利比近五年平均大於 100%</th>\n",
       "      <th>應收帳款週轉天數小於等於去年同期數據</th>\n",
       "      <th>存貨週轉天數小於等於去年同期數據</th>\n",
       "      <th>...</th>\n",
       "      <th>近一季毛利年增率大於 0</th>\n",
       "      <th>近一季營業利益年增率大於 0</th>\n",
       "      <th>近一季稅前淨利年增率大於 0</th>\n",
       "      <th>近一季稅後淨利年增率大於 0</th>\n",
       "      <th>便宜股健診</th>\n",
       "      <th>通過便宜股健診條件比例(%)</th>\n",
       "      <th>本益比在 5 年內區間最低 20 %</th>\n",
       "      <th>本益比低於 50 % 公司</th>\n",
       "      <th>股價淨值比在 5 年內區間最低 20 %</th>\n",
       "      <th>股價淨值比低於 50 % 公司</th>\n",
       "    </tr>\n",
       "  </thead>\n",
       "  <tbody>\n",
       "    <tr>\n",
       "      <th>0</th>\n",
       "      <td>1101</td>\n",
       "      <td>台泥</td>\n",
       "      <td>台泥通過 67.0% 排除地雷股檢查項目，代表公司是地雷股的風險低。如果你偏好體質穩健的公司...</td>\n",
       "      <td>67.0</td>\n",
       "      <td>True</td>\n",
       "      <td>True</td>\n",
       "      <td>True</td>\n",
       "      <td>True</td>\n",
       "      <td>False</td>\n",
       "      <td>False</td>\n",
       "      <td>...</td>\n",
       "      <td>True</td>\n",
       "      <td>True</td>\n",
       "      <td>True</td>\n",
       "      <td>True</td>\n",
       "      <td>台泥通過 67.0%股價是否低估的檢查項目，顯示股價可能被低估。如果你偏好股價低估的公司，台...</td>\n",
       "      <td>67.0</td>\n",
       "      <td>True</td>\n",
       "      <td>True</td>\n",
       "      <td>False</td>\n",
       "      <td>True</td>\n",
       "    </tr>\n",
       "    <tr>\n",
       "      <th>1</th>\n",
       "      <td>1102</td>\n",
       "      <td>亞泥</td>\n",
       "      <td>亞泥通過 83.0% 排除地雷股檢查項目，代表公司是地雷股的風險低。如果你偏好體質穩健的公司...</td>\n",
       "      <td>83.0</td>\n",
       "      <td>True</td>\n",
       "      <td>True</td>\n",
       "      <td>True</td>\n",
       "      <td>True</td>\n",
       "      <td>True</td>\n",
       "      <td>False</td>\n",
       "      <td>...</td>\n",
       "      <td>True</td>\n",
       "      <td>True</td>\n",
       "      <td>True</td>\n",
       "      <td>True</td>\n",
       "      <td>亞泥通過 50.0% 股價是否低估的檢查項目，初步來看公司股價並不算貴。如果其他財務健診結果...</td>\n",
       "      <td>50.0</td>\n",
       "      <td>True</td>\n",
       "      <td>True</td>\n",
       "      <td>False</td>\n",
       "      <td>True</td>\n",
       "    </tr>\n",
       "    <tr>\n",
       "      <th>2</th>\n",
       "      <td>1103</td>\n",
       "      <td>嘉泥</td>\n",
       "      <td>嘉泥通過 33.0% 排除地雷股檢查項目，顯示公司財務體質風險高。如果你偏好體質穩健的公司，...</td>\n",
       "      <td>33.0</td>\n",
       "      <td>False</td>\n",
       "      <td>False</td>\n",
       "      <td>False</td>\n",
       "      <td>False</td>\n",
       "      <td>True</td>\n",
       "      <td>True</td>\n",
       "      <td>...</td>\n",
       "      <td>False</td>\n",
       "      <td>False</td>\n",
       "      <td>True</td>\n",
       "      <td>True</td>\n",
       "      <td>嘉泥通過 33.0% 股價是否低估的檢查項目，初步來看公司股價並未低估。如果你偏好股價有明顯...</td>\n",
       "      <td>33.0</td>\n",
       "      <td>False</td>\n",
       "      <td>True</td>\n",
       "      <td>False</td>\n",
       "      <td>True</td>\n",
       "    </tr>\n",
       "    <tr>\n",
       "      <th>3</th>\n",
       "      <td>1104</td>\n",
       "      <td>環泥</td>\n",
       "      <td>環泥通過 50.0% 排除地雷股檢查項目，整體財務體質表現算及格。如果其他財務健診結果也不錯...</td>\n",
       "      <td>50.0</td>\n",
       "      <td>True</td>\n",
       "      <td>True</td>\n",
       "      <td>False</td>\n",
       "      <td>False</td>\n",
       "      <td>True</td>\n",
       "      <td>False</td>\n",
       "      <td>...</td>\n",
       "      <td>False</td>\n",
       "      <td>False</td>\n",
       "      <td>False</td>\n",
       "      <td>False</td>\n",
       "      <td>環泥通過 50.0% 股價是否低估的檢查項目，初步來看公司股價並不算貴。如果其他財務健診結果...</td>\n",
       "      <td>50.0</td>\n",
       "      <td>False</td>\n",
       "      <td>True</td>\n",
       "      <td>True</td>\n",
       "      <td>True</td>\n",
       "    </tr>\n",
       "    <tr>\n",
       "      <th>4</th>\n",
       "      <td>1108</td>\n",
       "      <td>幸福</td>\n",
       "      <td>幸福通過 67.0% 排除地雷股檢查項目，代表公司是地雷股的風險低。如果你偏好體質穩健的公司...</td>\n",
       "      <td>67.0</td>\n",
       "      <td>True</td>\n",
       "      <td>True</td>\n",
       "      <td>False</td>\n",
       "      <td>False</td>\n",
       "      <td>True</td>\n",
       "      <td>True</td>\n",
       "      <td>...</td>\n",
       "      <td>True</td>\n",
       "      <td>False</td>\n",
       "      <td>False</td>\n",
       "      <td>False</td>\n",
       "      <td>幸福通過 0.0% 股價是否低估的檢查項目，初步來看公司股價並未低估。如果你偏好股價有明顯低...</td>\n",
       "      <td>0.0</td>\n",
       "      <td>None</td>\n",
       "      <td>None</td>\n",
       "      <td>False</td>\n",
       "      <td>None</td>\n",
       "    </tr>\n",
       "  </tbody>\n",
       "</table>\n",
       "<p>5 rows × 30 columns</p>\n",
       "</div>"
      ],
      "text/plain": [
       "  有價證券代號 有價證券名稱                                            排除地雷股健診  \\\n",
       "0   1101     台泥  台泥通過 67.0% 排除地雷股檢查項目，代表公司是地雷股的風險低。如果你偏好體質穩健的公司...   \n",
       "1   1102     亞泥  亞泥通過 83.0% 排除地雷股檢查項目，代表公司是地雷股的風險低。如果你偏好體質穩健的公司...   \n",
       "2   1103     嘉泥  嘉泥通過 33.0% 排除地雷股檢查項目，顯示公司財務體質風險高。如果你偏好體質穩健的公司，...   \n",
       "3   1104     環泥  環泥通過 50.0% 排除地雷股檢查項目，整體財務體質表現算及格。如果其他財務健診結果也不錯...   \n",
       "4   1108     幸福  幸福通過 67.0% 排除地雷股檢查項目，代表公司是地雷股的風險低。如果你偏好體質穩健的公司...   \n",
       "\n",
       "   通過排除地雷股條件比例(%)  自由現金流入近五年有三年大於 0  自由現金流入近五年平均大於 0  營業現金流入對淨利比近五年有三年大於 100%  \\\n",
       "0            67.0              True             True                     True   \n",
       "1            83.0              True             True                     True   \n",
       "2            33.0             False            False                    False   \n",
       "3            50.0              True             True                    False   \n",
       "4            67.0              True             True                    False   \n",
       "\n",
       "   營業現金流入對淨利比近五年平均大於 100%  應收帳款週轉天數小於等於去年同期數據  存貨週轉天數小於等於去年同期數據  ...  \\\n",
       "0                    True               False             False  ...   \n",
       "1                    True                True             False  ...   \n",
       "2                   False                True              True  ...   \n",
       "3                   False                True             False  ...   \n",
       "4                   False                True              True  ...   \n",
       "\n",
       "  近一季毛利年增率大於 0  近一季營業利益年增率大於 0  近一季稅前淨利年增率大於 0 近一季稅後淨利年增率大於 0  \\\n",
       "0         True            True            True           True   \n",
       "1         True            True            True           True   \n",
       "2        False           False            True           True   \n",
       "3        False           False           False          False   \n",
       "4         True           False           False          False   \n",
       "\n",
       "                                               便宜股健診  通過便宜股健診條件比例(%)  \\\n",
       "0  台泥通過 67.0%股價是否低估的檢查項目，顯示股價可能被低估。如果你偏好股價低估的公司，台...            67.0   \n",
       "1  亞泥通過 50.0% 股價是否低估的檢查項目，初步來看公司股價並不算貴。如果其他財務健診結果...            50.0   \n",
       "2  嘉泥通過 33.0% 股價是否低估的檢查項目，初步來看公司股價並未低估。如果你偏好股價有明顯...            33.0   \n",
       "3  環泥通過 50.0% 股價是否低估的檢查項目，初步來看公司股價並不算貴。如果其他財務健診結果...            50.0   \n",
       "4  幸福通過 0.0% 股價是否低估的檢查項目，初步來看公司股價並未低估。如果你偏好股價有明顯低...             0.0   \n",
       "\n",
       "  本益比在 5 年內區間最低 20 % 本益比低於 50 % 公司  股價淨值比在 5 年內區間最低 20 %  股價淨值比低於 50 % 公司  \n",
       "0               True          True                 False             True  \n",
       "1               True          True                 False             True  \n",
       "2              False          True                 False             True  \n",
       "3              False          True                  True             True  \n",
       "4               None          None                 False             None  \n",
       "\n",
       "[5 rows x 30 columns]"
      ]
     },
     "execution_count": 20,
     "metadata": {},
     "output_type": "execute_result"
    }
   ],
   "source": [
    "# 檢視一下資料\n",
    "final_dic_df.head(5)"
   ]
  },
  {
   "cell_type": "code",
   "execution_count": 21,
   "metadata": {},
   "outputs": [
    {
     "data": {
      "text/html": [
       "<div>\n",
       "<style scoped>\n",
       "    .dataframe tbody tr th:only-of-type {\n",
       "        vertical-align: middle;\n",
       "    }\n",
       "\n",
       "    .dataframe tbody tr th {\n",
       "        vertical-align: top;\n",
       "    }\n",
       "\n",
       "    .dataframe thead th {\n",
       "        text-align: right;\n",
       "    }\n",
       "</style>\n",
       "<table border=\"1\" class=\"dataframe\">\n",
       "  <thead>\n",
       "    <tr style=\"text-align: right;\">\n",
       "      <th></th>\n",
       "      <th>有價證券代號</th>\n",
       "      <th>有價證券名稱</th>\n",
       "      <th>排除地雷股健診</th>\n",
       "      <th>通過排除地雷股條件比例(%)</th>\n",
       "      <th>自由現金流入近五年有三年大於 0</th>\n",
       "      <th>自由現金流入近五年平均大於 0</th>\n",
       "      <th>營業現金流入對淨利比近五年有三年大於 100%</th>\n",
       "      <th>營業現金流入對淨利比近五年平均大於 100%</th>\n",
       "      <th>應收帳款週轉天數小於等於去年同期數據</th>\n",
       "      <th>存貨週轉天數小於等於去年同期數據</th>\n",
       "      <th>...</th>\n",
       "      <th>近一季毛利年增率大於 0</th>\n",
       "      <th>近一季營業利益年增率大於 0</th>\n",
       "      <th>近一季稅前淨利年增率大於 0</th>\n",
       "      <th>近一季稅後淨利年增率大於 0</th>\n",
       "      <th>便宜股健診</th>\n",
       "      <th>通過便宜股健診條件比例(%)</th>\n",
       "      <th>本益比在 5 年內區間最低 20 %</th>\n",
       "      <th>本益比低於 50 % 公司</th>\n",
       "      <th>股價淨值比在 5 年內區間最低 20 %</th>\n",
       "      <th>股價淨值比低於 50 % 公司</th>\n",
       "    </tr>\n",
       "  </thead>\n",
       "  <tbody>\n",
       "    <tr>\n",
       "      <th>0</th>\n",
       "      <td>1101</td>\n",
       "      <td>台泥</td>\n",
       "      <td>台泥通過 67.0% 排除地雷股檢查項目，代表公司是地雷股的風險低。如果你偏好體質穩健的公司...</td>\n",
       "      <td>67.0</td>\n",
       "      <td>True</td>\n",
       "      <td>True</td>\n",
       "      <td>True</td>\n",
       "      <td>True</td>\n",
       "      <td>False</td>\n",
       "      <td>False</td>\n",
       "      <td>...</td>\n",
       "      <td>True</td>\n",
       "      <td>True</td>\n",
       "      <td>True</td>\n",
       "      <td>True</td>\n",
       "      <td>台泥通過 67.0%股價是否低估的檢查項目，顯示股價可能被低估。如果你偏好股價低估的公司，台...</td>\n",
       "      <td>67.0</td>\n",
       "      <td>True</td>\n",
       "      <td>True</td>\n",
       "      <td>False</td>\n",
       "      <td>True</td>\n",
       "    </tr>\n",
       "    <tr>\n",
       "      <th>1</th>\n",
       "      <td>1102</td>\n",
       "      <td>亞泥</td>\n",
       "      <td>亞泥通過 83.0% 排除地雷股檢查項目，代表公司是地雷股的風險低。如果你偏好體質穩健的公司...</td>\n",
       "      <td>83.0</td>\n",
       "      <td>True</td>\n",
       "      <td>True</td>\n",
       "      <td>True</td>\n",
       "      <td>True</td>\n",
       "      <td>True</td>\n",
       "      <td>False</td>\n",
       "      <td>...</td>\n",
       "      <td>True</td>\n",
       "      <td>True</td>\n",
       "      <td>True</td>\n",
       "      <td>True</td>\n",
       "      <td>亞泥通過 50.0% 股價是否低估的檢查項目，初步來看公司股價並不算貴。如果其他財務健診結果...</td>\n",
       "      <td>50.0</td>\n",
       "      <td>True</td>\n",
       "      <td>True</td>\n",
       "      <td>False</td>\n",
       "      <td>True</td>\n",
       "    </tr>\n",
       "    <tr>\n",
       "      <th>2</th>\n",
       "      <td>1103</td>\n",
       "      <td>嘉泥</td>\n",
       "      <td>嘉泥通過 33.0% 排除地雷股檢查項目，顯示公司財務體質風險高。如果你偏好體質穩健的公司，...</td>\n",
       "      <td>33.0</td>\n",
       "      <td>False</td>\n",
       "      <td>False</td>\n",
       "      <td>False</td>\n",
       "      <td>False</td>\n",
       "      <td>True</td>\n",
       "      <td>True</td>\n",
       "      <td>...</td>\n",
       "      <td>False</td>\n",
       "      <td>False</td>\n",
       "      <td>True</td>\n",
       "      <td>True</td>\n",
       "      <td>嘉泥通過 33.0% 股價是否低估的檢查項目，初步來看公司股價並未低估。如果你偏好股價有明顯...</td>\n",
       "      <td>33.0</td>\n",
       "      <td>False</td>\n",
       "      <td>True</td>\n",
       "      <td>False</td>\n",
       "      <td>True</td>\n",
       "    </tr>\n",
       "    <tr>\n",
       "      <th>3</th>\n",
       "      <td>1104</td>\n",
       "      <td>環泥</td>\n",
       "      <td>環泥通過 50.0% 排除地雷股檢查項目，整體財務體質表現算及格。如果其他財務健診結果也不錯...</td>\n",
       "      <td>50.0</td>\n",
       "      <td>True</td>\n",
       "      <td>True</td>\n",
       "      <td>False</td>\n",
       "      <td>False</td>\n",
       "      <td>True</td>\n",
       "      <td>False</td>\n",
       "      <td>...</td>\n",
       "      <td>False</td>\n",
       "      <td>False</td>\n",
       "      <td>False</td>\n",
       "      <td>False</td>\n",
       "      <td>環泥通過 50.0% 股價是否低估的檢查項目，初步來看公司股價並不算貴。如果其他財務健診結果...</td>\n",
       "      <td>50.0</td>\n",
       "      <td>False</td>\n",
       "      <td>True</td>\n",
       "      <td>True</td>\n",
       "      <td>True</td>\n",
       "    </tr>\n",
       "    <tr>\n",
       "      <th>4</th>\n",
       "      <td>1108</td>\n",
       "      <td>幸福</td>\n",
       "      <td>幸福通過 67.0% 排除地雷股檢查項目，代表公司是地雷股的風險低。如果你偏好體質穩健的公司...</td>\n",
       "      <td>67.0</td>\n",
       "      <td>True</td>\n",
       "      <td>True</td>\n",
       "      <td>False</td>\n",
       "      <td>False</td>\n",
       "      <td>True</td>\n",
       "      <td>True</td>\n",
       "      <td>...</td>\n",
       "      <td>True</td>\n",
       "      <td>False</td>\n",
       "      <td>False</td>\n",
       "      <td>False</td>\n",
       "      <td>幸福通過 0.0% 股價是否低估的檢查項目，初步來看公司股價並未低估。如果你偏好股價有明顯低...</td>\n",
       "      <td>0.0</td>\n",
       "      <td>False</td>\n",
       "      <td>False</td>\n",
       "      <td>False</td>\n",
       "      <td>False</td>\n",
       "    </tr>\n",
       "  </tbody>\n",
       "</table>\n",
       "<p>5 rows × 30 columns</p>\n",
       "</div>"
      ],
      "text/plain": [
       "  有價證券代號 有價證券名稱                                            排除地雷股健診  \\\n",
       "0   1101     台泥  台泥通過 67.0% 排除地雷股檢查項目，代表公司是地雷股的風險低。如果你偏好體質穩健的公司...   \n",
       "1   1102     亞泥  亞泥通過 83.0% 排除地雷股檢查項目，代表公司是地雷股的風險低。如果你偏好體質穩健的公司...   \n",
       "2   1103     嘉泥  嘉泥通過 33.0% 排除地雷股檢查項目，顯示公司財務體質風險高。如果你偏好體質穩健的公司，...   \n",
       "3   1104     環泥  環泥通過 50.0% 排除地雷股檢查項目，整體財務體質表現算及格。如果其他財務健診結果也不錯...   \n",
       "4   1108     幸福  幸福通過 67.0% 排除地雷股檢查項目，代表公司是地雷股的風險低。如果你偏好體質穩健的公司...   \n",
       "\n",
       "   通過排除地雷股條件比例(%)  自由現金流入近五年有三年大於 0  自由現金流入近五年平均大於 0  營業現金流入對淨利比近五年有三年大於 100%  \\\n",
       "0            67.0              True             True                     True   \n",
       "1            83.0              True             True                     True   \n",
       "2            33.0             False            False                    False   \n",
       "3            50.0              True             True                    False   \n",
       "4            67.0              True             True                    False   \n",
       "\n",
       "   營業現金流入對淨利比近五年平均大於 100%  應收帳款週轉天數小於等於去年同期數據  存貨週轉天數小於等於去年同期數據  ...  \\\n",
       "0                    True               False             False  ...   \n",
       "1                    True                True             False  ...   \n",
       "2                   False                True              True  ...   \n",
       "3                   False                True             False  ...   \n",
       "4                   False                True              True  ...   \n",
       "\n",
       "  近一季毛利年增率大於 0  近一季營業利益年增率大於 0  近一季稅前淨利年增率大於 0 近一季稅後淨利年增率大於 0  \\\n",
       "0         True            True            True           True   \n",
       "1         True            True            True           True   \n",
       "2        False           False            True           True   \n",
       "3        False           False           False          False   \n",
       "4         True           False           False          False   \n",
       "\n",
       "                                               便宜股健診  通過便宜股健診條件比例(%)  \\\n",
       "0  台泥通過 67.0%股價是否低估的檢查項目，顯示股價可能被低估。如果你偏好股價低估的公司，台...            67.0   \n",
       "1  亞泥通過 50.0% 股價是否低估的檢查項目，初步來看公司股價並不算貴。如果其他財務健診結果...            50.0   \n",
       "2  嘉泥通過 33.0% 股價是否低估的檢查項目，初步來看公司股價並未低估。如果你偏好股價有明顯...            33.0   \n",
       "3  環泥通過 50.0% 股價是否低估的檢查項目，初步來看公司股價並不算貴。如果其他財務健診結果...            50.0   \n",
       "4  幸福通過 0.0% 股價是否低估的檢查項目，初步來看公司股價並未低估。如果你偏好股價有明顯低...             0.0   \n",
       "\n",
       "  本益比在 5 年內區間最低 20 % 本益比低於 50 % 公司  股價淨值比在 5 年內區間最低 20 %  股價淨值比低於 50 % 公司  \n",
       "0               True          True                 False             True  \n",
       "1               True          True                 False             True  \n",
       "2              False          True                 False             True  \n",
       "3              False          True                  True             True  \n",
       "4              False         False                 False            False  \n",
       "\n",
       "[5 rows x 30 columns]"
      ]
     },
     "execution_count": 21,
     "metadata": {},
     "output_type": "execute_result"
    }
   ],
   "source": [
    "final_dic_df_fillna = final_dic_df.fillna('False')\n",
    "final_dic_df_fillna.head(5)"
   ]
  },
  {
   "cell_type": "code",
   "execution_count": 22,
   "metadata": {},
   "outputs": [],
   "source": [
    "# 儲存fillna('False')之資料\n",
    "file_fillna = \"stock_statementdog_fillna\"\n",
    "final_dic_df_fillna.to_csv(dn + \"/\"+ file_fillna + \".csv\",encoding=\"utf-8\", index=False)"
   ]
  },
  {
   "cell_type": "code",
   "execution_count": null,
   "metadata": {},
   "outputs": [],
   "source": []
  }
 ],
 "metadata": {
  "colab": {
   "collapsed_sections": [],
   "name": "WebCrawler_statementdog.ipynb",
   "provenance": []
  },
  "kernelspec": {
   "display_name": "Python 3",
   "language": "python",
   "name": "python3"
  },
  "language_info": {
   "codemirror_mode": {
    "name": "ipython",
    "version": 3
   },
   "file_extension": ".py",
   "mimetype": "text/x-python",
   "name": "python",
   "nbconvert_exporter": "python",
   "pygments_lexer": "ipython3",
   "version": "3.7.4"
  }
 },
 "nbformat": 4,
 "nbformat_minor": 1
}
